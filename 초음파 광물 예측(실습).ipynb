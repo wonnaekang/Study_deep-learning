{
 "cells": [
  {
   "cell_type": "code",
   "execution_count": 25,
   "metadata": {},
   "outputs": [],
   "source": [
    "from keras.models import Sequential\n",
    "from keras.layers.core import Dense\n",
    "from sklearn.preprocessing import LabelEncoder\n",
    "from sklearn.model_selection import train_test_split\n",
    "import pandas as pd\n",
    "import numpy\n",
    "import tensorflow as tf"
   ]
  },
  {
   "cell_type": "code",
   "execution_count": 2,
   "metadata": {},
   "outputs": [],
   "source": [
    "# seed 값 설정\n",
    "seed = 0\n",
    "numpy.random.seed(seed)\n",
    "tf.random.set_seed(seed)"
   ]
  },
  {
   "cell_type": "code",
   "execution_count": 3,
   "metadata": {},
   "outputs": [],
   "source": [
    "df = pd.read_csv('./dataset/sonar.csv', header=None)"
   ]
  },
  {
   "cell_type": "code",
   "execution_count": 4,
   "metadata": {},
   "outputs": [
    {
     "data": {
      "text/plain": [
       "array([[0.02, 0.0371, 0.0428, ..., 0.009, 0.0032, 'R'],\n",
       "       [0.0453, 0.0523, 0.0843, ..., 0.0052, 0.0044, 'R'],\n",
       "       [0.0262, 0.0582, 0.1099, ..., 0.0095, 0.0078, 'R'],\n",
       "       ...,\n",
       "       [0.0522, 0.0437, 0.018, ..., 0.0077, 0.0031, 'M'],\n",
       "       [0.0303, 0.0353, 0.049, ..., 0.0036, 0.0048, 'M'],\n",
       "       [0.026, 0.0363, 0.0136, ..., 0.0061, 0.0115, 'M']], dtype=object)"
      ]
     },
     "execution_count": 4,
     "metadata": {},
     "output_type": "execute_result"
    }
   ],
   "source": [
    "df.values"
   ]
  },
  {
   "cell_type": "code",
   "execution_count": 18,
   "metadata": {},
   "outputs": [],
   "source": [
    "dataset = df.values\n",
    "X = dataset[:,0:60].astype(float)\n",
    "Y_obj = dataset[:,60]"
   ]
  },
  {
   "cell_type": "code",
   "execution_count": 19,
   "metadata": {},
   "outputs": [],
   "source": [
    "# 문자열 변환\n",
    "e = LabelEncoder()\n",
    "e.fit(Y_obj)\n",
    "Y = e.transform(Y_obj).astype(float)"
   ]
  },
  {
   "cell_type": "code",
   "execution_count": 26,
   "metadata": {},
   "outputs": [],
   "source": [
    "# 학습 셋과 테스트 셋의 구분\n",
    "X_train, X_test, Y_train, Y_test = train_test_split(X, Y, test_size=0.3, random_state=seed)"
   ]
  },
  {
   "cell_type": "code",
   "execution_count": 27,
   "metadata": {},
   "outputs": [],
   "source": [
    "# 모델 설정\n",
    "model = Sequential()\n",
    "model.add(Dense(24,  input_dim=60, activation='relu'))\n",
    "model.add(Dense(10, activation='relu'))\n",
    "model.add(Dense(1, activation='sigmoid'))"
   ]
  },
  {
   "cell_type": "code",
   "execution_count": 28,
   "metadata": {},
   "outputs": [],
   "source": [
    "# 모델 컴파일\n",
    "model.compile(loss='binary_crossentropy',\n",
    "            optimizer='adam',\n",
    "            metrics=['accuracy'])"
   ]
  },
  {
   "cell_type": "code",
   "execution_count": 29,
   "metadata": {},
   "outputs": [
    {
     "name": "stdout",
     "output_type": "stream",
     "text": [
      "Epoch 1/50\n",
      "29/29 [==============================] - 0s 2ms/step - loss: 0.6938 - accuracy: 0.5586\n",
      "Epoch 2/50\n",
      "29/29 [==============================] - 0s 2ms/step - loss: 0.6748 - accuracy: 0.6552\n",
      "Epoch 3/50\n",
      "29/29 [==============================] - 0s 2ms/step - loss: 0.6612 - accuracy: 0.6621\n",
      "Epoch 4/50\n",
      "29/29 [==============================] - 0s 2ms/step - loss: 0.6478 - accuracy: 0.6690\n",
      "Epoch 5/50\n",
      "29/29 [==============================] - 0s 2ms/step - loss: 0.6291 - accuracy: 0.7034\n",
      "Epoch 6/50\n",
      "29/29 [==============================] - 0s 2ms/step - loss: 0.6110 - accuracy: 0.7034\n",
      "Epoch 7/50\n",
      "29/29 [==============================] - 0s 2ms/step - loss: 0.5964 - accuracy: 0.7448\n",
      "Epoch 8/50\n",
      "29/29 [==============================] - 0s 2ms/step - loss: 0.5825 - accuracy: 0.7448\n",
      "Epoch 9/50\n",
      "29/29 [==============================] - 0s 2ms/step - loss: 0.5570 - accuracy: 0.7793\n",
      "Epoch 10/50\n",
      "29/29 [==============================] - 0s 2ms/step - loss: 0.5343 - accuracy: 0.8069\n",
      "Epoch 11/50\n",
      "29/29 [==============================] - 0s 2ms/step - loss: 0.5115 - accuracy: 0.7931\n",
      "Epoch 12/50\n",
      "29/29 [==============================] - 0s 2ms/step - loss: 0.4996 - accuracy: 0.8138\n",
      "Epoch 13/50\n",
      "29/29 [==============================] - 0s 2ms/step - loss: 0.4758 - accuracy: 0.8414\n",
      "Epoch 14/50\n",
      "29/29 [==============================] - 0s 2ms/step - loss: 0.4654 - accuracy: 0.8138\n",
      "Epoch 15/50\n",
      "29/29 [==============================] - 0s 2ms/step - loss: 0.4489 - accuracy: 0.8552\n",
      "Epoch 16/50\n",
      "29/29 [==============================] - 0s 2ms/step - loss: 0.4295 - accuracy: 0.8414\n",
      "Epoch 17/50\n",
      "29/29 [==============================] - 0s 2ms/step - loss: 0.4160 - accuracy: 0.8483\n",
      "Epoch 18/50\n",
      "29/29 [==============================] - 0s 2ms/step - loss: 0.4061 - accuracy: 0.8276\n",
      "Epoch 19/50\n",
      "29/29 [==============================] - 0s 2ms/step - loss: 0.3938 - accuracy: 0.8483\n",
      "Epoch 20/50\n",
      "29/29 [==============================] - 0s 2ms/step - loss: 0.3833 - accuracy: 0.8414\n",
      "Epoch 21/50\n",
      "29/29 [==============================] - 0s 2ms/step - loss: 0.3801 - accuracy: 0.9034\n",
      "Epoch 22/50\n",
      "29/29 [==============================] - 0s 2ms/step - loss: 0.3671 - accuracy: 0.8552\n",
      "Epoch 23/50\n",
      "29/29 [==============================] - 0s 2ms/step - loss: 0.3592 - accuracy: 0.8621\n",
      "Epoch 24/50\n",
      "29/29 [==============================] - 0s 2ms/step - loss: 0.3417 - accuracy: 0.8621\n",
      "Epoch 25/50\n",
      "29/29 [==============================] - 0s 2ms/step - loss: 0.3389 - accuracy: 0.8621\n",
      "Epoch 26/50\n",
      "29/29 [==============================] - 0s 2ms/step - loss: 0.3275 - accuracy: 0.8759\n",
      "Epoch 27/50\n",
      "29/29 [==============================] - 0s 2ms/step - loss: 0.3290 - accuracy: 0.8621\n",
      "Epoch 28/50\n",
      "29/29 [==============================] - 0s 2ms/step - loss: 0.3169 - accuracy: 0.8690\n",
      "Epoch 29/50\n",
      "29/29 [==============================] - 0s 2ms/step - loss: 0.3122 - accuracy: 0.8690\n",
      "Epoch 30/50\n",
      "29/29 [==============================] - 0s 2ms/step - loss: 0.3042 - accuracy: 0.8552\n",
      "Epoch 31/50\n",
      "29/29 [==============================] - 0s 2ms/step - loss: 0.2926 - accuracy: 0.8759\n",
      "Epoch 32/50\n",
      "29/29 [==============================] - 0s 2ms/step - loss: 0.2849 - accuracy: 0.8897\n",
      "Epoch 33/50\n",
      "29/29 [==============================] - 0s 2ms/step - loss: 0.2791 - accuracy: 0.8897\n",
      "Epoch 34/50\n",
      "29/29 [==============================] - 0s 2ms/step - loss: 0.2827 - accuracy: 0.8828\n",
      "Epoch 35/50\n",
      "29/29 [==============================] - 0s 2ms/step - loss: 0.2782 - accuracy: 0.8897\n",
      "Epoch 36/50\n",
      "29/29 [==============================] - 0s 2ms/step - loss: 0.2724 - accuracy: 0.8966\n",
      "Epoch 37/50\n",
      "29/29 [==============================] - 0s 2ms/step - loss: 0.2681 - accuracy: 0.8966\n",
      "Epoch 38/50\n",
      "29/29 [==============================] - 0s 2ms/step - loss: 0.2638 - accuracy: 0.8828\n",
      "Epoch 39/50\n",
      "29/29 [==============================] - 0s 2ms/step - loss: 0.2435 - accuracy: 0.9034\n",
      "Epoch 40/50\n",
      "29/29 [==============================] - 0s 2ms/step - loss: 0.2474 - accuracy: 0.8828\n",
      "Epoch 41/50\n",
      "29/29 [==============================] - 0s 2ms/step - loss: 0.2321 - accuracy: 0.8966\n",
      "Epoch 42/50\n",
      "29/29 [==============================] - 0s 2ms/step - loss: 0.2294 - accuracy: 0.9172\n",
      "Epoch 43/50\n",
      "29/29 [==============================] - 0s 2ms/step - loss: 0.2305 - accuracy: 0.9103\n",
      "Epoch 44/50\n",
      "29/29 [==============================] - 0s 2ms/step - loss: 0.2181 - accuracy: 0.9310\n",
      "Epoch 45/50\n",
      "29/29 [==============================] - 0s 2ms/step - loss: 0.2116 - accuracy: 0.9517\n",
      "Epoch 46/50\n",
      "29/29 [==============================] - 0s 2ms/step - loss: 0.2121 - accuracy: 0.9103\n",
      "Epoch 47/50\n",
      "29/29 [==============================] - 0s 2ms/step - loss: 0.2088 - accuracy: 0.9379\n",
      "Epoch 48/50\n",
      "29/29 [==============================] - 0s 1ms/step - loss: 0.1949 - accuracy: 0.9448\n",
      "Epoch 49/50\n",
      "29/29 [==============================] - 0s 2ms/step - loss: 0.2041 - accuracy: 0.9103\n",
      "Epoch 50/50\n",
      "29/29 [==============================] - 0s 2ms/step - loss: 0.1924 - accuracy: 0.9517\n"
     ]
    },
    {
     "data": {
      "text/plain": [
       "<tensorflow.python.keras.callbacks.History at 0x229644d7588>"
      ]
     },
     "execution_count": 29,
     "metadata": {},
     "output_type": "execute_result"
    }
   ],
   "source": [
    "# 모델 실행\n",
    "model.fit(X_train, Y_train, epochs=50, batch_size=5)"
   ]
  },
  {
   "cell_type": "code",
   "execution_count": 30,
   "metadata": {},
   "outputs": [
    {
     "name": "stdout",
     "output_type": "stream",
     "text": [
      "2/2 [==============================] - 0s 3ms/step - loss: 0.4552 - accuracy: 0.8571\n",
      "\n",
      " Accuracy: 0.8571\n"
     ]
    }
   ],
   "source": [
    "print(\"\\n Accuracy: %.4f\" % (model.evaluate(X_test, Y_test)[1]))"
   ]
  },
  {
   "cell_type": "code",
   "execution_count": null,
   "metadata": {},
   "outputs": [],
   "source": []
  }
 ],
 "metadata": {
  "kernelspec": {
   "display_name": "Python 3",
   "language": "python",
   "name": "python3"
  },
  "language_info": {
   "codemirror_mode": {
    "name": "ipython",
    "version": 3
   },
   "file_extension": ".py",
   "mimetype": "text/x-python",
   "name": "python",
   "nbconvert_exporter": "python",
   "pygments_lexer": "ipython3",
   "version": "3.7.9"
  }
 },
 "nbformat": 4,
 "nbformat_minor": 4
}
