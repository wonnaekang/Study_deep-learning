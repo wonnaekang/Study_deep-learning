{
 "cells": [
  {
   "cell_type": "code",
   "execution_count": 1,
   "metadata": {},
   "outputs": [],
   "source": [
    "# !pip install matplotlib"
   ]
  },
  {
   "cell_type": "code",
   "execution_count": 1,
   "metadata": {},
   "outputs": [],
   "source": [
    "from tensorflow.keras.datasets import mnist\n",
    "from tensorflow.keras.utils import to_categorical\n",
    "import matplotlib.pyplot as plt"
   ]
  },
  {
   "cell_type": "markdown",
   "metadata": {},
   "source": [
    "### 데이터 가져오기"
   ]
  },
  {
   "cell_type": "code",
   "execution_count": 2,
   "metadata": {},
   "outputs": [],
   "source": [
    "(X_train,y_train),(X_test,y_test) = mnist.load_data()"
   ]
  },
  {
   "cell_type": "code",
   "execution_count": 3,
   "metadata": {},
   "outputs": [
    {
     "data": {
      "text/plain": [
       "((60000, 28, 28), (60000,), (10000, 28, 28), (10000,))"
      ]
     },
     "execution_count": 3,
     "metadata": {},
     "output_type": "execute_result"
    }
   ],
   "source": [
    "X_train.shape, y_train.shape, X_test.shape, y_test.shape"
   ]
  },
  {
   "cell_type": "markdown",
   "metadata": {},
   "source": [
    "### 이미지 확인"
   ]
  },
  {
   "cell_type": "code",
   "execution_count": 4,
   "metadata": {},
   "outputs": [
    {
     "data": {
      "text/plain": [
       "<matplotlib.image.AxesImage at 0x1eed30e6208>"
      ]
     },
     "execution_count": 4,
     "metadata": {},
     "output_type": "execute_result"
    },
    {
     "data": {
      "image/png": "[encoded data removed]",
      "text/plain": [
       "<Figure size 432x288 with 1 Axes>"
      ]
     },
     "metadata": {
      "needs_background": "light"
     },
     "output_type": "display_data"
    }
   ],
   "source": [
    "plt.imshow(X_train[0], cmap='gray')"
   ]
  },
  {
   "cell_type": "markdown",
   "metadata": {},
   "source": [
    "### X값 1차원으로 변경"
   ]
  },
  {
   "cell_type": "code",
   "execution_count": 5,
   "metadata": {},
   "outputs": [],
   "source": [
    "X_train = X_train.reshape(X_train.shape[0],-1)\n",
    "X_test = X_test.reshape(X_test.shape[0],-1)"
   ]
  },
  {
   "cell_type": "code",
   "execution_count": 6,
   "metadata": {},
   "outputs": [
    {
     "data": {
      "text/plain": [
       "((60000, 784), (10000, 784))"
      ]
     },
     "execution_count": 6,
     "metadata": {},
     "output_type": "execute_result"
    }
   ],
   "source": [
    "X_train.shape, X_test.shape"
   ]
  },
  {
   "cell_type": "code",
   "execution_count": null,
   "metadata": {},
   "outputs": [],
   "source": []
  },
  {
   "cell_type": "markdown",
   "metadata": {},
   "source": [
    "### 정답 원 핫 인코딩"
   ]
  },
  {
   "cell_type": "code",
   "execution_count": 7,
   "metadata": {},
   "outputs": [],
   "source": [
    "y_train = to_categorical(y_train)\n",
    "y_test = to_categorical(y_test)"
   ]
  },
  {
   "cell_type": "code",
   "execution_count": 8,
   "metadata": {},
   "outputs": [
    {
     "data": {
      "text/plain": [
       "array([0., 0., 0., 1., 0., 0., 0., 0., 0., 0.], dtype=float32)"
      ]
     },
     "execution_count": 8,
     "metadata": {},
     "output_type": "execute_result"
    }
   ],
   "source": [
    "y_train[10]"
   ]
  },
  {
   "cell_type": "markdown",
   "metadata": {},
   "source": [
    "### 모델생성"
   ]
  },
  {
   "cell_type": "code",
   "execution_count": 3,
   "metadata": {},
   "outputs": [],
   "source": [
    "from tensorflow.keras.models import Sequential\n",
    "from tensorflow.keras.layers import Dense"
   ]
  },
  {
   "cell_type": "code",
   "execution_count": 11,
   "metadata": {},
   "outputs": [],
   "source": [
    "# model 쌓는 부분\n",
    "model = Sequential()\n",
    "model.add(Dense(512,input_dim=784,activation='relu'))\n",
    "model.add(Dense(10,activation='softmax'))\n",
    "# model compile \n",
    "model.compile(loss='categorical_crossentropy',\n",
    "             optimizer='adam', metrics=['accuracy'])"
   ]
  },
  {
   "cell_type": "code",
   "execution_count": 12,
   "metadata": {},
   "outputs": [
    {
     "name": "stdout",
     "output_type": "stream",
     "text": [
      "Train on 48000 samples, validate on 12000 samples\n",
      "Epoch 1/50\n",
      "48000/48000 [==============================] - 1s 28us/sample - loss: 5.5809 - accuracy: 0.8968 - val_loss: 1.9617 - val_accuracy: 0.9269\n",
      "Epoch 2/50\n",
      "48000/48000 [==============================] - 1s 18us/sample - loss: 0.9955 - accuracy: 0.9513 - val_loss: 1.0787 - val_accuracy: 0.9477\n",
      "Epoch 3/50\n",
      "48000/48000 [==============================] - 1s 18us/sample - loss: 0.4429 - accuracy: 0.9697 - val_loss: 0.8543 - val_accuracy: 0.9579\n",
      "Epoch 4/50\n",
      "48000/48000 [==============================] - 1s 18us/sample - loss: 0.2819 - accuracy: 0.9766 - val_loss: 0.7937 - val_accuracy: 0.9616\n",
      "Epoch 5/50\n",
      "48000/48000 [==============================] - 1s 18us/sample - loss: 0.2218 - accuracy: 0.9806 - val_loss: 0.8228 - val_accuracy: 0.9618\n",
      "Epoch 6/50\n",
      "48000/48000 [==============================] - 1s 18us/sample - loss: 0.2138 - accuracy: 0.9817 - val_loss: 0.8382 - val_accuracy: 0.9632\n",
      "Epoch 7/50\n",
      "48000/48000 [==============================] - 1s 17us/sample - loss: 0.1623 - accuracy: 0.9852 - val_loss: 0.7162 - val_accuracy: 0.9643\n",
      "Epoch 8/50\n",
      "48000/48000 [==============================] - 1s 18us/sample - loss: 0.1452 - accuracy: 0.9856 - val_loss: 0.8124 - val_accuracy: 0.9620\n",
      "Epoch 9/50\n",
      "48000/48000 [==============================] - 1s 18us/sample - loss: 0.1509 - accuracy: 0.9861 - val_loss: 0.7103 - val_accuracy: 0.9667\n",
      "Epoch 10/50\n",
      "48000/48000 [==============================] - 1s 18us/sample - loss: 0.1546 - accuracy: 0.9861 - val_loss: 0.7647 - val_accuracy: 0.9660\n",
      "Epoch 11/50\n",
      "48000/48000 [==============================] - 1s 18us/sample - loss: 0.1463 - accuracy: 0.9871 - val_loss: 0.6593 - val_accuracy: 0.9688\n",
      "Epoch 12/50\n",
      "48000/48000 [==============================] - 1s 18us/sample - loss: 0.1426 - accuracy: 0.9862 - val_loss: 0.7120 - val_accuracy: 0.9673\n",
      "Epoch 13/50\n",
      "48000/48000 [==============================] - 1s 18us/sample - loss: 0.1334 - accuracy: 0.9880 - val_loss: 0.8170 - val_accuracy: 0.9672\n",
      "Epoch 14/50\n",
      "48000/48000 [==============================] - 1s 18us/sample - loss: 0.1696 - accuracy: 0.9864 - val_loss: 0.7813 - val_accuracy: 0.9667\n",
      "Epoch 15/50\n",
      "48000/48000 [==============================] - 1s 18us/sample - loss: 0.1402 - accuracy: 0.9873 - val_loss: 0.7658 - val_accuracy: 0.9654\n",
      "Epoch 16/50\n",
      "48000/48000 [==============================] - 1s 18us/sample - loss: 0.1587 - accuracy: 0.9864 - val_loss: 0.7460 - val_accuracy: 0.9682\n",
      "Epoch 17/50\n",
      "48000/48000 [==============================] - 1s 18us/sample - loss: 0.1682 - accuracy: 0.9866 - val_loss: 0.8496 - val_accuracy: 0.9671\n",
      "Epoch 18/50\n",
      "48000/48000 [==============================] - 1s 18us/sample - loss: 0.1602 - accuracy: 0.9874 - val_loss: 0.7635 - val_accuracy: 0.9697\n",
      "Epoch 19/50\n",
      "48000/48000 [==============================] - 1s 18us/sample - loss: 0.1021 - accuracy: 0.9909 - val_loss: 0.8662 - val_accuracy: 0.9673\n",
      "Epoch 20/50\n",
      "48000/48000 [==============================] - 1s 18us/sample - loss: 0.1212 - accuracy: 0.9894 - val_loss: 0.7859 - val_accuracy: 0.9668\n",
      "Epoch 21/50\n",
      "48000/48000 [==============================] - 1s 18us/sample - loss: 0.1252 - accuracy: 0.9892 - val_loss: 0.7591 - val_accuracy: 0.9687\n",
      "Epoch 22/50\n",
      "48000/48000 [==============================] - 1s 19us/sample - loss: 0.1444 - accuracy: 0.9892 - val_loss: 0.8905 - val_accuracy: 0.9673\n",
      "Epoch 23/50\n",
      "48000/48000 [==============================] - 1s 18us/sample - loss: 0.1743 - accuracy: 0.9877 - val_loss: 1.0565 - val_accuracy: 0.9649\n",
      "Epoch 24/50\n",
      "48000/48000 [==============================] - 1s 18us/sample - loss: 0.1561 - accuracy: 0.9886 - val_loss: 0.9117 - val_accuracy: 0.9674\n",
      "Epoch 25/50\n",
      "48000/48000 [==============================] - 1s 18us/sample - loss: 0.1223 - accuracy: 0.9905 - val_loss: 0.9269 - val_accuracy: 0.9715\n",
      "Epoch 26/50\n",
      "48000/48000 [==============================] - 1s 18us/sample - loss: 0.1467 - accuracy: 0.9898 - val_loss: 0.8711 - val_accuracy: 0.9706\n",
      "Epoch 27/50\n",
      "48000/48000 [==============================] - 1s 18us/sample - loss: 0.1220 - accuracy: 0.9920 - val_loss: 0.9139 - val_accuracy: 0.9724\n",
      "Epoch 28/50\n",
      "48000/48000 [==============================] - 1s 18us/sample - loss: 0.0984 - accuracy: 0.9927 - val_loss: 0.8912 - val_accuracy: 0.9739\n",
      "Epoch 29/50\n",
      "48000/48000 [==============================] - 1s 18us/sample - loss: 0.1164 - accuracy: 0.9917 - val_loss: 0.9880 - val_accuracy: 0.9726\n",
      "Epoch 30/50\n",
      "48000/48000 [==============================] - 1s 18us/sample - loss: 0.1207 - accuracy: 0.9919 - val_loss: 1.0009 - val_accuracy: 0.9707\n",
      "Epoch 31/50\n",
      "48000/48000 [==============================] - 1s 18us/sample - loss: 0.1311 - accuracy: 0.9923 - val_loss: 0.8845 - val_accuracy: 0.9732\n",
      "Epoch 32/50\n",
      "48000/48000 [==============================] - 1s 18us/sample - loss: 0.1151 - accuracy: 0.9923 - val_loss: 1.0536 - val_accuracy: 0.9728\n",
      "Epoch 33/50\n",
      "48000/48000 [==============================] - 1s 18us/sample - loss: 0.1281 - accuracy: 0.9921 - val_loss: 1.0832 - val_accuracy: 0.9728\n",
      "Epoch 34/50\n",
      "48000/48000 [==============================] - 1s 18us/sample - loss: 0.1419 - accuracy: 0.9923 - val_loss: 1.0165 - val_accuracy: 0.9715\n",
      "Epoch 35/50\n",
      "48000/48000 [==============================] - 1s 18us/sample - loss: 0.0838 - accuracy: 0.9944 - val_loss: 1.0797 - val_accuracy: 0.9724\n",
      "Epoch 36/50\n",
      "48000/48000 [==============================] - 1s 18us/sample - loss: 0.1214 - accuracy: 0.9931 - val_loss: 1.1158 - val_accuracy: 0.9720\n",
      "Epoch 37/50\n",
      "48000/48000 [==============================] - 1s 18us/sample - loss: 0.1050 - accuracy: 0.9929 - val_loss: 1.1858 - val_accuracy: 0.9692\n",
      "Epoch 38/50\n",
      "48000/48000 [==============================] - 1s 18us/sample - loss: 0.0894 - accuracy: 0.9943 - val_loss: 1.0678 - val_accuracy: 0.9740\n",
      "Epoch 39/50\n",
      "48000/48000 [==============================] - 1s 18us/sample - loss: 0.0832 - accuracy: 0.9945 - val_loss: 1.1987 - val_accuracy: 0.9722\n",
      "Epoch 40/50\n",
      "48000/48000 [==============================] - 1s 18us/sample - loss: 0.1156 - accuracy: 0.9938 - val_loss: 1.5319 - val_accuracy: 0.9704\n",
      "Epoch 41/50\n",
      "48000/48000 [==============================] - 1s 19us/sample - loss: 0.1209 - accuracy: 0.9935 - val_loss: 1.3407 - val_accuracy: 0.9729\n",
      "Epoch 42/50\n",
      "48000/48000 [==============================] - 1s 18us/sample - loss: 0.1146 - accuracy: 0.9936 - val_loss: 1.3656 - val_accuracy: 0.9714\n",
      "Epoch 43/50\n",
      "48000/48000 [==============================] - 1s 18us/sample - loss: 0.1063 - accuracy: 0.9945 - val_loss: 1.3184 - val_accuracy: 0.9732\n",
      "Epoch 44/50\n",
      "48000/48000 [==============================] - 1s 18us/sample - loss: 0.1107 - accuracy: 0.9945 - val_loss: 1.3805 - val_accuracy: 0.9741\n",
      "Epoch 45/50\n",
      "48000/48000 [==============================] - 1s 18us/sample - loss: 0.0897 - accuracy: 0.9951 - val_loss: 1.2867 - val_accuracy: 0.9768\n",
      "Epoch 46/50\n",
      "48000/48000 [==============================] - 1s 17us/sample - loss: 0.0692 - accuracy: 0.9962 - val_loss: 1.3993 - val_accuracy: 0.9754\n",
      "Epoch 47/50\n",
      "48000/48000 [==============================] - 1s 18us/sample - loss: 0.1156 - accuracy: 0.9950 - val_loss: 1.4850 - val_accuracy: 0.9747\n",
      "Epoch 48/50\n",
      "48000/48000 [==============================] - 1s 17us/sample - loss: 0.1310 - accuracy: 0.9941 - val_loss: 1.5222 - val_accuracy: 0.9715\n",
      "Epoch 49/50\n",
      "48000/48000 [==============================] - 1s 18us/sample - loss: 0.0613 - accuracy: 0.9964 - val_loss: 1.3472 - val_accuracy: 0.9758\n",
      "Epoch 50/50\n",
      "48000/48000 [==============================] - 1s 18us/sample - loss: 0.1142 - accuracy: 0.9958 - val_loss: 1.7649 - val_accuracy: 0.9732\n"
     ]
    }
   ],
   "source": [
    "history = model.fit(X_train,y_train,\n",
    "                    epochs=50,\n",
    "                    validation_split=0.2,\n",
    "                   batch_size=200)"
   ]
  },
  {
   "cell_type": "code",
   "execution_count": 13,
   "metadata": {},
   "outputs": [
    {
     "name": "stdout",
     "output_type": "stream",
     "text": [
      "10000/10000 [==============================] - 0s 34us/sample - loss: 1.5205 - accuracy: 0.9750\n"
     ]
    },
    {
     "data": {
      "text/plain": [
       "[1.5205301077423783, 0.975]"
      ]
     },
     "execution_count": 13,
     "metadata": {},
     "output_type": "execute_result"
    }
   ],
   "source": [
    "model.evaluate(X_test,y_test)"
   ]
  },
  {
   "cell_type": "code",
   "execution_count": 14,
   "metadata": {},
   "outputs": [
    {
     "name": "stdout",
     "output_type": "stream",
     "text": [
      "Model: \"sequential\"\n",
      "_________________________________________________________________\n",
      "Layer (type)                 Output Shape              Param #   \n",
      "=================================================================\n",
      "dense (Dense)                (None, 512)               401920    \n",
      "_________________________________________________________________\n",
      "dense_1 (Dense)              (None, 10)                5130      \n",
      "=================================================================\n",
      "Total params: 407,050\n",
      "Trainable params: 407,050\n",
      "Non-trainable params: 0\n",
      "_________________________________________________________________\n"
     ]
    }
   ],
   "source": [
    "model.summary()"
   ]
  },
  {
   "cell_type": "markdown",
   "metadata": {},
   "source": [
    "### 결과 시각화"
   ]
  },
  {
   "cell_type": "code",
   "execution_count": 15,
   "metadata": {},
   "outputs": [
    {
     "data": {
      "text/plain": [
       "<matplotlib.legend.Legend at 0x1be296a73c8>"
      ]
     },
     "execution_count": 15,
     "metadata": {},
     "output_type": "execute_result"
    },
    {
     "data": {
      "image/png": "[encoded data removed]",
      "text/plain": [
       "<Figure size 432x288 with 1 Axes>"
      ]
     },
     "metadata": {
      "needs_background": "light"
     },
     "output_type": "display_data"
    }
   ],
   "source": [
    "plt.plot(history.history['accuracy']) # 훈련데이터\n",
    "plt.plot(history.history['val_accuracy']) # 검증데이터\n",
    "plt.legend(['train','validation'], loc='upper left')\n",
    "# plt.ylim(0.94,1.00)\n",
    "# plt.xlim(30,40)"
   ]
  },
  {
   "cell_type": "markdown",
   "metadata": {},
   "source": [
    "### 손글씨 직접 판단시켜보기"
   ]
  },
  {
   "cell_type": "code",
   "execution_count": 16,
   "metadata": {},
   "outputs": [],
   "source": [
    "# !pip install Pillow"
   ]
  },
  {
   "cell_type": "code",
   "execution_count": 11,
   "metadata": {},
   "outputs": [],
   "source": [
    "from PIL import Image,ImageOps\n",
    "import numpy as np"
   ]
  },
  {
   "cell_type": "code",
   "execution_count": 18,
   "metadata": {},
   "outputs": [
    {
     "data": {
      "image/png": "[encoded data removed]",
      "text/plain": [
       "<PIL.Image.Image image mode=L size=28x28 at 0x1BE29EA0DD8>"
      ]
     },
     "execution_count": 18,
     "metadata": {},
     "output_type": "execute_result"
    }
   ],
   "source": [
    "image = Image.open('./number.png').convert('L') # 흑백변환\n",
    "image"
   ]
  },
  {
   "cell_type": "code",
   "execution_count": 19,
   "metadata": {},
   "outputs": [
    {
     "data": {
      "text/plain": [
       "(28, 28)"
      ]
     },
     "execution_count": 19,
     "metadata": {},
     "output_type": "execute_result"
    }
   ],
   "source": [
    "image = ImageOps.invert(image) # 255가 흰색 -> 0이 흰색\n",
    "image_arr = np.array(image)\n",
    "image_arr.shape"
   ]
  },
  {
   "cell_type": "code",
   "execution_count": 20,
   "metadata": {},
   "outputs": [
    {
     "data": {
      "text/plain": [
       "<matplotlib.image.AxesImage at 0x1be2b899898>"
      ]
     },
     "execution_count": 20,
     "metadata": {},
     "output_type": "execute_result"
    },
    {
     "data": {
      "image/png": "[encoded data removed]",
      "text/plain": [
       "<Figure size 432x288 with 1 Axes>"
      ]
     },
     "metadata": {
      "needs_background": "light"
     },
     "output_type": "display_data"
    }
   ],
   "source": [
    "plt.imshow(image_arr, cmap='gray')"
   ]
  },
  {
   "cell_type": "code",
   "execution_count": 21,
   "metadata": {},
   "outputs": [
    {
     "data": {
      "text/plain": [
       "array([9], dtype=int64)"
      ]
     },
     "execution_count": 21,
     "metadata": {},
     "output_type": "execute_result"
    }
   ],
   "source": [
    "model.predict_classes(image_arr.reshape(1,-1))"
   ]
  },
  {
   "cell_type": "markdown",
   "metadata": {},
   "source": [
    "### best 모델 저장, 학습조기중단"
   ]
  },
  {
   "cell_type": "code",
   "execution_count": 30,
   "metadata": {},
   "outputs": [],
   "source": [
    "from tensorflow.keras.callbacks import EarlyStopping, ModelCheckpoint"
   ]
  },
  {
   "cell_type": "code",
   "execution_count": 31,
   "metadata": {},
   "outputs": [],
   "source": [
    "earlyStopping = EarlyStopping(monitor='val_accuracy',\n",
    "                             patience=15)"
   ]
  },
  {
   "cell_type": "code",
   "execution_count": 24,
   "metadata": {},
   "outputs": [],
   "source": [
    "path = \"./model/MNIST_{epoch:03d}_{val_accuracy:.4f}.hdf5\"\n",
    "modelCheckPoint = ModelCheckpoint(filepath=path,\n",
    "                                 monitor='val_accuracy',\n",
    "                                 verbose=1,\n",
    "                                 save_best_only=True)"
   ]
  },
  {
   "cell_type": "code",
   "execution_count": 25,
   "metadata": {},
   "outputs": [],
   "source": [
    "# model 쌓는 부분\n",
    "model = Sequential()\n",
    "model.add(Dense(512,input_dim=784,activation='relu'))\n",
    "model.add(Dense(10,activation='softmax'))\n",
    "# model compile \n",
    "model.compile(loss='categorical_crossentropy',\n",
    "             optimizer='adam', metrics=['accuracy'])"
   ]
  },
  {
   "cell_type": "code",
   "execution_count": 26,
   "metadata": {
    "scrolled": true
   },
   "outputs": [
    {
     "name": "stdout",
     "output_type": "stream",
     "text": [
      "Train on 48000 samples, validate on 12000 samples\n",
      "Epoch 1/50\n",
      "45800/48000 [===========================>..] - ETA: 0s - loss: 6.2280 - accuracy: 0.8904\n",
      "Epoch 00001: val_accuracy improved from -inf to 0.93900, saving model to ./model/MNIST_001_0.9390.hdf5\n",
      "48000/48000 [==============================] - 1s 27us/sample - loss: 5.9924 - accuracy: 0.8929 - val_loss: 1.6864 - val_accuracy: 0.9390\n",
      "Epoch 2/50\n",
      "46800/48000 [============================>.] - ETA: 0s - loss: 0.9729 - accuracy: 0.9522\n",
      "Epoch 00002: val_accuracy improved from 0.93900 to 0.94658, saving model to ./model/MNIST_002_0.9466.hdf5\n",
      "48000/48000 [==============================] - 1s 20us/sample - loss: 0.9712 - accuracy: 0.9522 - val_loss: 1.1465 - val_accuracy: 0.9466\n",
      "Epoch 3/50\n",
      "45800/48000 [===========================>..] - ETA: 0s - loss: 0.4807 - accuracy: 0.9673\n",
      "Epoch 00003: val_accuracy improved from 0.94658 to 0.95400, saving model to ./model/MNIST_003_0.9540.hdf5\n",
      "48000/48000 [==============================] - 1s 25us/sample - loss: 0.4783 - accuracy: 0.9673 - val_loss: 0.8486 - val_accuracy: 0.9540\n",
      "Epoch 4/50\n",
      "46000/48000 [===========================>..] - ETA: 0s - loss: 0.2874 - accuracy: 0.9764\n",
      "Epoch 00004: val_accuracy improved from 0.95400 to 0.96050, saving model to ./model/MNIST_004_0.9605.hdf5\n",
      "48000/48000 [==============================] - 1s 21us/sample - loss: 0.2867 - accuracy: 0.9764 - val_loss: 0.7800 - val_accuracy: 0.9605\n",
      "Epoch 5/50\n",
      "47200/48000 [============================>.] - ETA: 0s - loss: 0.2010 - accuracy: 0.9822\n",
      "Epoch 00005: val_accuracy did not improve from 0.96050\n",
      "48000/48000 [==============================] - 1s 21us/sample - loss: 0.2021 - accuracy: 0.9821 - val_loss: 0.8394 - val_accuracy: 0.9572\n",
      "Epoch 6/50\n",
      "46200/48000 [===========================>..] - ETA: 0s - loss: 0.1899 - accuracy: 0.9821\n",
      "Epoch 00006: val_accuracy did not improve from 0.96050\n",
      "48000/48000 [==============================] - 1s 20us/sample - loss: 0.1895 - accuracy: 0.9822 - val_loss: 0.8833 - val_accuracy: 0.9586\n",
      "Epoch 7/50\n",
      "47600/48000 [============================>.] - ETA: 0s - loss: 0.1521 - accuracy: 0.9845\n",
      "Epoch 00007: val_accuracy improved from 0.96050 to 0.96258, saving model to ./model/MNIST_007_0.9626.hdf5\n",
      "48000/48000 [==============================] - 1s 21us/sample - loss: 0.1514 - accuracy: 0.9845 - val_loss: 0.7165 - val_accuracy: 0.9626\n",
      "Epoch 8/50\n",
      "45800/48000 [===========================>..] - ETA: 0s - loss: 0.1500 - accuracy: 0.9856\n",
      "Epoch 00008: val_accuracy did not improve from 0.96258\n",
      "48000/48000 [==============================] - 1s 20us/sample - loss: 0.1555 - accuracy: 0.9852 - val_loss: 0.7982 - val_accuracy: 0.9624\n",
      "Epoch 9/50\n",
      "46800/48000 [============================>.] - ETA: 0s - loss: 0.1459 - accuracy: 0.9859\n",
      "Epoch 00009: val_accuracy improved from 0.96258 to 0.96550, saving model to ./model/MNIST_009_0.9655.hdf5\n",
      "48000/48000 [==============================] - 1s 21us/sample - loss: 0.1471 - accuracy: 0.9858 - val_loss: 0.7510 - val_accuracy: 0.9655\n",
      "Epoch 10/50\n",
      "45800/48000 [===========================>..] - ETA: 0s - loss: 0.1389 - accuracy: 0.9861\n",
      "Epoch 00010: val_accuracy did not improve from 0.96550\n",
      "48000/48000 [==============================] - 1s 20us/sample - loss: 0.1381 - accuracy: 0.9861 - val_loss: 0.7516 - val_accuracy: 0.9638\n",
      "Epoch 11/50\n",
      "46600/48000 [============================>.] - ETA: 0s - loss: 0.1554 - accuracy: 0.9864\n",
      "Epoch 00011: val_accuracy did not improve from 0.96550\n",
      "48000/48000 [==============================] - 1s 20us/sample - loss: 0.1551 - accuracy: 0.9863 - val_loss: 0.8444 - val_accuracy: 0.9617\n",
      "Epoch 12/50\n",
      "47000/48000 [============================>.] - ETA: 0s - loss: 0.1597 - accuracy: 0.9858\n",
      "Epoch 00012: val_accuracy did not improve from 0.96550\n",
      "48000/48000 [==============================] - 1s 20us/sample - loss: 0.1615 - accuracy: 0.9857 - val_loss: 0.8324 - val_accuracy: 0.9603\n",
      "Epoch 13/50\n",
      "46800/48000 [============================>.] - ETA: 0s - loss: 0.1796 - accuracy: 0.9842\n",
      "Epoch 00013: val_accuracy improved from 0.96550 to 0.96975, saving model to ./model/MNIST_013_0.9697.hdf5\n",
      "48000/48000 [==============================] - 1s 21us/sample - loss: 0.1790 - accuracy: 0.9843 - val_loss: 0.7259 - val_accuracy: 0.9697\n",
      "Epoch 14/50\n",
      "46200/48000 [===========================>..] - ETA: 0s - loss: 0.1565 - accuracy: 0.9868\n",
      "Epoch 00014: val_accuracy did not improve from 0.96975\n",
      "48000/48000 [==============================] - 1s 21us/sample - loss: 0.1583 - accuracy: 0.9868 - val_loss: 0.8304 - val_accuracy: 0.9641\n",
      "Epoch 15/50\n",
      "46000/48000 [===========================>..] - ETA: 0s - loss: 0.1407 - accuracy: 0.9880\n",
      "Epoch 00015: val_accuracy did not improve from 0.96975\n",
      "48000/48000 [==============================] - 1s 21us/sample - loss: 0.1425 - accuracy: 0.9878 - val_loss: 0.7524 - val_accuracy: 0.9693\n",
      "Epoch 16/50\n",
      "46200/48000 [===========================>..] - ETA: 0s - loss: 0.1458 - accuracy: 0.9875\n",
      "Epoch 00016: val_accuracy did not improve from 0.96975\n",
      "48000/48000 [==============================] - 1s 21us/sample - loss: 0.1515 - accuracy: 0.9874 - val_loss: 0.8028 - val_accuracy: 0.9683\n",
      "Epoch 17/50\n",
      "46800/48000 [============================>.] - ETA: 0s - loss: 0.1072 - accuracy: 0.9899\n",
      "Epoch 00017: val_accuracy did not improve from 0.96975\n",
      "48000/48000 [==============================] - 1s 21us/sample - loss: 0.1069 - accuracy: 0.9899 - val_loss: 0.8316 - val_accuracy: 0.9641\n",
      "Epoch 18/50\n",
      "45400/48000 [===========================>..] - ETA: 0s - loss: 0.1462 - accuracy: 0.9875\n",
      "Epoch 00018: val_accuracy did not improve from 0.96975\n",
      "48000/48000 [==============================] - 1s 21us/sample - loss: 0.1478 - accuracy: 0.9875 - val_loss: 0.8074 - val_accuracy: 0.9668\n",
      "Epoch 19/50\n",
      "45800/48000 [===========================>..] - ETA: 0s - loss: 0.1521 - accuracy: 0.9880\n",
      "Epoch 00019: val_accuracy did not improve from 0.96975\n",
      "48000/48000 [==============================] - 1s 21us/sample - loss: 0.1569 - accuracy: 0.9878 - val_loss: 0.9677 - val_accuracy: 0.9677\n",
      "Epoch 20/50\n",
      "45200/48000 [===========================>..] - ETA: 0s - loss: 0.1799 - accuracy: 0.9866\n",
      "Epoch 00020: val_accuracy did not improve from 0.96975\n",
      "48000/48000 [==============================] - 1s 21us/sample - loss: 0.1776 - accuracy: 0.9869 - val_loss: 0.8042 - val_accuracy: 0.9695\n",
      "Epoch 21/50\n",
      "46800/48000 [============================>.] - ETA: 0s - loss: 0.1232 - accuracy: 0.9900\n",
      "Epoch 00021: val_accuracy did not improve from 0.96975\n",
      "48000/48000 [==============================] - 1s 20us/sample - loss: 0.1243 - accuracy: 0.9899 - val_loss: 0.8921 - val_accuracy: 0.9672\n",
      "Epoch 22/50\n",
      "46800/48000 [============================>.] - ETA: 0s - loss: 0.1571 - accuracy: 0.9885\n",
      "Epoch 00022: val_accuracy did not improve from 0.96975\n",
      "48000/48000 [==============================] - 1s 20us/sample - loss: 0.1562 - accuracy: 0.9885 - val_loss: 0.9784 - val_accuracy: 0.9665\n",
      "Epoch 23/50\n",
      "46600/48000 [============================>.] - ETA: 0s - loss: 0.1506 - accuracy: 0.9894\n",
      "Epoch 00023: val_accuracy did not improve from 0.96975\n",
      "48000/48000 [==============================] - 1s 22us/sample - loss: 0.1507 - accuracy: 0.9894 - val_loss: 0.8566 - val_accuracy: 0.9694\n",
      "Epoch 24/50\n",
      "46800/48000 [============================>.] - ETA: 0s - loss: 0.1054 - accuracy: 0.9913\n",
      "Epoch 00024: val_accuracy improved from 0.96975 to 0.97117, saving model to ./model/MNIST_024_0.9712.hdf5\n",
      "48000/48000 [==============================] - 1s 23us/sample - loss: 0.1039 - accuracy: 0.9914 - val_loss: 0.8744 - val_accuracy: 0.9712\n",
      "Epoch 25/50\n",
      "47600/48000 [============================>.] - ETA: 0s - loss: 0.1086 - accuracy: 0.9909\n",
      "Epoch 00025: val_accuracy improved from 0.97117 to 0.97225, saving model to ./model/MNIST_025_0.9722.hdf5\n",
      "48000/48000 [==============================] - 1s 22us/sample - loss: 0.1085 - accuracy: 0.9908 - val_loss: 0.8811 - val_accuracy: 0.9722\n",
      "Epoch 26/50\n",
      "47600/48000 [============================>.] - ETA: 0s - loss: 0.1176 - accuracy: 0.9912\n",
      "Epoch 00026: val_accuracy did not improve from 0.97225\n",
      "48000/48000 [==============================] - 1s 22us/sample - loss: 0.1195 - accuracy: 0.9911 - val_loss: 1.0621 - val_accuracy: 0.9704\n",
      "Epoch 27/50\n",
      "47600/48000 [============================>.] - ETA: 0s - loss: 0.1666 - accuracy: 0.9895\n",
      "Epoch 00027: val_accuracy did not improve from 0.97225\n",
      "48000/48000 [==============================] - 1s 21us/sample - loss: 0.1696 - accuracy: 0.9894 - val_loss: 1.0153 - val_accuracy: 0.9697\n",
      "Epoch 28/50\n",
      "46600/48000 [============================>.] - ETA: 0s - loss: 0.1329 - accuracy: 0.9909\n",
      "Epoch 00028: val_accuracy did not improve from 0.97225\n",
      "48000/48000 [==============================] - 1s 20us/sample - loss: 0.1313 - accuracy: 0.9910 - val_loss: 0.9052 - val_accuracy: 0.9711\n",
      "Epoch 29/50\n",
      "47400/48000 [============================>.] - ETA: 0s - loss: 0.1286 - accuracy: 0.9920\n",
      "Epoch 00029: val_accuracy did not improve from 0.97225\n",
      "48000/48000 [==============================] - 1s 20us/sample - loss: 0.1297 - accuracy: 0.9919 - val_loss: 1.0772 - val_accuracy: 0.9697\n",
      "Epoch 30/50\n",
      "47400/48000 [============================>.] - ETA: 0s - loss: 0.1325 - accuracy: 0.9909\n",
      "Epoch 00030: val_accuracy improved from 0.97225 to 0.97292, saving model to ./model/MNIST_030_0.9729.hdf5\n",
      "48000/48000 [==============================] - 1s 20us/sample - loss: 0.1319 - accuracy: 0.9909 - val_loss: 0.9808 - val_accuracy: 0.9729\n",
      "Epoch 31/50\n",
      "46200/48000 [===========================>..] - ETA: 0s - loss: 0.0991 - accuracy: 0.9929\n",
      "Epoch 00031: val_accuracy improved from 0.97292 to 0.97317, saving model to ./model/MNIST_031_0.9732.hdf5\n",
      "48000/48000 [==============================] - 1s 20us/sample - loss: 0.1010 - accuracy: 0.9929 - val_loss: 1.0846 - val_accuracy: 0.9732\n",
      "Epoch 32/50\n",
      "46600/48000 [============================>.] - ETA: 0s - loss: 0.1401 - accuracy: 0.9923\n",
      "Epoch 00032: val_accuracy did not improve from 0.97317\n",
      "48000/48000 [==============================] - 1s 18us/sample - loss: 0.1387 - accuracy: 0.9923 - val_loss: 1.1454 - val_accuracy: 0.9703\n",
      "Epoch 33/50\n",
      "47400/48000 [============================>.] - ETA: 0s - loss: 0.1326 - accuracy: 0.9919\n",
      "Epoch 00033: val_accuracy did not improve from 0.97317\n",
      "48000/48000 [==============================] - 1s 17us/sample - loss: 0.1325 - accuracy: 0.9919 - val_loss: 1.1161 - val_accuracy: 0.9721\n",
      "Epoch 34/50\n",
      "47400/48000 [============================>.] - ETA: 0s - loss: 0.0865 - accuracy: 0.9944\n",
      "Epoch 00034: val_accuracy did not improve from 0.97317\n",
      "48000/48000 [==============================] - 1s 19us/sample - loss: 0.0880 - accuracy: 0.9944 - val_loss: 1.1257 - val_accuracy: 0.9723\n",
      "Epoch 35/50\n",
      "45600/48000 [===========================>..] - ETA: 0s - loss: 0.0871 - accuracy: 0.9937\n",
      "Epoch 00035: val_accuracy did not improve from 0.97317\n",
      "48000/48000 [==============================] - 1s 18us/sample - loss: 0.0854 - accuracy: 0.9938 - val_loss: 1.2230 - val_accuracy: 0.9718\n",
      "Epoch 36/50\n",
      "47400/48000 [============================>.] - ETA: 0s - loss: 0.1248 - accuracy: 0.9933\n",
      "Epoch 00036: val_accuracy improved from 0.97317 to 0.97342, saving model to ./model/MNIST_036_0.9734.hdf5\n",
      "48000/48000 [==============================] - 1s 18us/sample - loss: 0.1236 - accuracy: 0.9934 - val_loss: 1.1705 - val_accuracy: 0.9734\n",
      "Epoch 37/50\n",
      "47200/48000 [============================>.] - ETA: 0s - loss: 0.1375 - accuracy: 0.9929\n",
      "Epoch 00037: val_accuracy did not improve from 0.97342\n",
      "48000/48000 [==============================] - 1s 17us/sample - loss: 0.1390 - accuracy: 0.9929 - val_loss: 1.3859 - val_accuracy: 0.9710\n",
      "Epoch 38/50\n",
      "47400/48000 [============================>.] - ETA: 0s - loss: 0.1127 - accuracy: 0.9941\n",
      "Epoch 00038: val_accuracy did not improve from 0.97342\n",
      "48000/48000 [==============================] - 1s 17us/sample - loss: 0.1113 - accuracy: 0.9941 - val_loss: 1.3774 - val_accuracy: 0.9702\n",
      "Epoch 39/50\n",
      "47400/48000 [============================>.] - ETA: 0s - loss: 0.0973 - accuracy: 0.9945\n",
      "Epoch 00039: val_accuracy improved from 0.97342 to 0.97475, saving model to ./model/MNIST_039_0.9747.hdf5\n",
      "48000/48000 [==============================] - 1s 18us/sample - loss: 0.0974 - accuracy: 0.9945 - val_loss: 1.1631 - val_accuracy: 0.9747\n",
      "Epoch 40/50\n",
      "46200/48000 [===========================>..] - ETA: 0s - loss: 0.0792 - accuracy: 0.9948\n",
      "Epoch 00040: val_accuracy did not improve from 0.97475\n",
      "48000/48000 [==============================] - 1s 21us/sample - loss: 0.0797 - accuracy: 0.9948 - val_loss: 1.2880 - val_accuracy: 0.9744\n",
      "Epoch 41/50\n",
      "46200/48000 [===========================>..] - ETA: 0s - loss: 0.0929 - accuracy: 0.9947\n",
      "Epoch 00041: val_accuracy did not improve from 0.97475\n",
      "48000/48000 [==============================] - 1s 21us/sample - loss: 0.0933 - accuracy: 0.9946 - val_loss: 1.3044 - val_accuracy: 0.9719\n",
      "Epoch 42/50\n",
      "47200/48000 [============================>.] - ETA: 0s - loss: 0.0918 - accuracy: 0.9947\n",
      "Epoch 00042: val_accuracy did not improve from 0.97475\n",
      "48000/48000 [==============================] - 1s 22us/sample - loss: 0.0914 - accuracy: 0.9947 - val_loss: 1.3547 - val_accuracy: 0.9720\n",
      "Epoch 43/50\n",
      "45800/48000 [===========================>..] - ETA: 0s - loss: 0.1005 - accuracy: 0.9944\n",
      "Epoch 00043: val_accuracy improved from 0.97475 to 0.97517, saving model to ./model/MNIST_043_0.9752.hdf5\n",
      "48000/48000 [==============================] - 1s 21us/sample - loss: 0.1020 - accuracy: 0.9943 - val_loss: 1.2126 - val_accuracy: 0.9752\n",
      "Epoch 44/50\n",
      "45600/48000 [===========================>..] - ETA: 0s - loss: 0.0821 - accuracy: 0.9951\n",
      "Epoch 00044: val_accuracy did not improve from 0.97517\n",
      "48000/48000 [==============================] - 1s 18us/sample - loss: 0.0836 - accuracy: 0.9951 - val_loss: 1.4608 - val_accuracy: 0.9721\n",
      "Epoch 45/50\n",
      "46600/48000 [============================>.] - ETA: 0s - loss: 0.0856 - accuracy: 0.9951\n",
      "Epoch 00045: val_accuracy did not improve from 0.97517\n",
      "48000/48000 [==============================] - 1s 18us/sample - loss: 0.0847 - accuracy: 0.9951 - val_loss: 1.2095 - val_accuracy: 0.9746\n",
      "Epoch 46/50\n",
      "47200/48000 [============================>.] - ETA: 0s - loss: 0.0851 - accuracy: 0.9956\n",
      "Epoch 00046: val_accuracy did not improve from 0.97517\n",
      "48000/48000 [==============================] - 1s 18us/sample - loss: 0.0840 - accuracy: 0.9956 - val_loss: 1.3666 - val_accuracy: 0.9739\n",
      "Epoch 47/50\n",
      "47000/48000 [============================>.] - ETA: 0s - loss: 0.0900 - accuracy: 0.9957\n",
      "Epoch 00047: val_accuracy did not improve from 0.97517\n",
      "48000/48000 [==============================] - 1s 22us/sample - loss: 0.0882 - accuracy: 0.9958 - val_loss: 1.4927 - val_accuracy: 0.9730\n",
      "Epoch 48/50\n",
      "47400/48000 [============================>.] - ETA: 0s - loss: 0.1155 - accuracy: 0.9946\n",
      "Epoch 00048: val_accuracy did not improve from 0.97517\n",
      "48000/48000 [==============================] - 1s 21us/sample - loss: 0.1150 - accuracy: 0.9945 - val_loss: 1.7211 - val_accuracy: 0.9726\n",
      "Epoch 49/50\n",
      "46400/48000 [============================>.] - ETA: 0s - loss: 0.1271 - accuracy: 0.9944\n",
      "Epoch 00049: val_accuracy did not improve from 0.97517\n",
      "48000/48000 [==============================] - 1s 20us/sample - loss: 0.1291 - accuracy: 0.9943 - val_loss: 1.8999 - val_accuracy: 0.9697\n",
      "Epoch 50/50\n",
      "45200/48000 [===========================>..] - ETA: 0s - loss: 0.1119 - accuracy: 0.9949\n",
      "Epoch 00050: val_accuracy improved from 0.97517 to 0.97583, saving model to ./model/MNIST_050_0.9758.hdf5\n",
      "48000/48000 [==============================] - 1s 21us/sample - loss: 0.1085 - accuracy: 0.9949 - val_loss: 1.5331 - val_accuracy: 0.9758\n"
     ]
    }
   ],
   "source": [
    "history = model.fit(X_train,y_train,\n",
    "                    epochs=50,\n",
    "                    validation_split=0.2,\n",
    "                   batch_size=200,\n",
    "                   callbacks=[earlyStopping,modelCheckPoint])"
   ]
  },
  {
   "cell_type": "markdown",
   "metadata": {},
   "source": [
    "### 모델 로딩"
   ]
  },
  {
   "cell_type": "code",
   "execution_count": 13,
   "metadata": {},
   "outputs": [],
   "source": [
    "from tensorflow.keras.models import load_model"
   ]
  },
  {
   "cell_type": "code",
   "execution_count": 28,
   "metadata": {},
   "outputs": [],
   "source": [
    "final_model = load_model('./model/MNIST_039_0.9747.hdf5')"
   ]
  },
  {
   "cell_type": "code",
   "execution_count": 29,
   "metadata": {},
   "outputs": [
    {
     "name": "stdout",
     "output_type": "stream",
     "text": [
      "10000/10000 [==============================] - 0s 37us/sample - loss: 1.1815 - accuracy: 0.9738\n"
     ]
    },
    {
     "data": {
      "text/plain": [
       "[1.1814964417956269, 0.9738]"
      ]
     },
     "execution_count": 29,
     "metadata": {},
     "output_type": "execute_result"
    }
   ],
   "source": [
    "final_model.evaluate(X_test,y_test)"
   ]
  },
  {
   "cell_type": "markdown",
   "metadata": {},
   "source": [
    "### 만약에 사진이 회전되어있다면 어떨까???"
   ]
  },
  {
   "cell_type": "code",
   "execution_count": 30,
   "metadata": {},
   "outputs": [
    {
     "data": {
      "text/plain": [
       "(10000, 784)"
      ]
     },
     "execution_count": 30,
     "metadata": {},
     "output_type": "execute_result"
    }
   ],
   "source": [
    "X_test.shape"
   ]
  },
  {
   "cell_type": "code",
   "execution_count": 15,
   "metadata": {},
   "outputs": [
    {
     "data": {
      "text/plain": [
       "(10000, 28, 28)"
      ]
     },
     "execution_count": 15,
     "metadata": {},
     "output_type": "execute_result"
    }
   ],
   "source": [
    "X_test_28_28 = X_test.reshape(10000,28,28)\n",
    "X_test_28_28.shape"
   ]
  },
  {
   "cell_type": "code",
   "execution_count": 16,
   "metadata": {},
   "outputs": [
    {
     "data": {
      "text/plain": [
       "<matplotlib.image.AxesImage at 0x21862a82c18>"
      ]
     },
     "execution_count": 16,
     "metadata": {},
     "output_type": "execute_result"
    },
    {
     "data": {
      "image/png": "[encoded data removed]",
      "text/plain": [
       "<Figure size 432x288 with 1 Axes>"
      ]
     },
     "metadata": {
      "needs_background": "light"
     },
     "output_type": "display_data"
    }
   ],
   "source": [
    "plt.imshow(X_test_28_28[0], cmap='gray')"
   ]
  },
  {
   "cell_type": "code",
   "execution_count": 17,
   "metadata": {},
   "outputs": [
    {
     "data": {
      "image/png": "[encoded data removed]",
      "text/plain": [
       "<PIL.Image.Image image mode=L size=28x28 at 0x21862ABA630>"
      ]
     },
     "execution_count": 17,
     "metadata": {},
     "output_type": "execute_result"
    }
   ],
   "source": [
    "angle = np.random.randint(0,360)\n",
    "Image.fromarray(X_test_28_28[0]).rotate(angle)"
   ]
  },
  {
   "cell_type": "code",
   "execution_count": 18,
   "metadata": {},
   "outputs": [],
   "source": [
    "rotate_test = []\n",
    "for i in range(10000):\n",
    "    angle = np.random.randint(0,360)\n",
    "    img = Image.fromarray(X_test_28_28[i]).rotate(angle)\n",
    "    rotate_test.append(np.array(img))"
   ]
  },
  {
   "cell_type": "code",
   "execution_count": 19,
   "metadata": {},
   "outputs": [
    {
     "data": {
      "text/plain": [
       "(10000, 28, 28)"
      ]
     },
     "execution_count": 19,
     "metadata": {},
     "output_type": "execute_result"
    }
   ],
   "source": [
    "rotate_test = np.array(rotate_test)\n",
    "rotate_test.shape"
   ]
  },
  {
   "cell_type": "code",
   "execution_count": 20,
   "metadata": {},
   "outputs": [
    {
     "data": {
      "text/plain": [
       "<matplotlib.image.AxesImage at 0x218634c8f98>"
      ]
     },
     "execution_count": 20,
     "metadata": {},
     "output_type": "execute_result"
    },
    {
     "data": {
      "image/png": "[encoded data removed]",
      "text/plain": [
       "<Figure size 1296x288 with 10 Axes>"
      ]
     },
     "metadata": {
      "needs_background": "light"
     },
     "output_type": "display_data"
    }
   ],
   "source": [
    "figure, axes = plt.subplots(nrows=2,ncols=5)\n",
    "figure.set_size_inches(18,4)\n",
    "\n",
    "axes[0][0].imshow(rotate_test[0])\n",
    "axes[0][1].imshow(rotate_test[1])\n",
    "axes[0][2].imshow(rotate_test[2])\n",
    "axes[0][3].imshow(rotate_test[3])\n",
    "axes[0][4].imshow(rotate_test[4])\n",
    "\n",
    "axes[1][0].imshow(rotate_test[5])\n",
    "axes[1][1].imshow(rotate_test[6])\n",
    "axes[1][2].imshow(rotate_test[7])\n",
    "axes[1][3].imshow(rotate_test[8])\n",
    "axes[1][4].imshow(rotate_test[9])"
   ]
  },
  {
   "cell_type": "code",
   "execution_count": 106,
   "metadata": {},
   "outputs": [
    {
     "data": {
      "text/plain": [
       "(10000, 784)"
      ]
     },
     "execution_count": 106,
     "metadata": {},
     "output_type": "execute_result"
    }
   ],
   "source": [
    "rotate_test = rotate_test.reshape(10000,-1)\n",
    "rotate_test.shape"
   ]
  },
  {
   "cell_type": "code",
   "execution_count": 108,
   "metadata": {},
   "outputs": [
    {
     "name": "stdout",
     "output_type": "stream",
     "text": [
      "10000/10000 [==============================] - 0s 32us/sample - loss: 110.4693 - accuracy: 0.3668\n"
     ]
    },
    {
     "data": {
      "text/plain": [
       "[110.46932596435546, 0.3668]"
      ]
     },
     "execution_count": 108,
     "metadata": {},
     "output_type": "execute_result"
    }
   ],
   "source": [
    "final_model.evaluate(rotate_test,y_test)"
   ]
  },
  {
   "cell_type": "markdown",
   "metadata": {},
   "source": [
    "### train data rotate"
   ]
  },
  {
   "cell_type": "code",
   "execution_count": 23,
   "metadata": {},
   "outputs": [
    {
     "data": {
      "text/plain": [
       "(60000, 28, 28)"
      ]
     },
     "execution_count": 23,
     "metadata": {},
     "output_type": "execute_result"
    }
   ],
   "source": [
    "X_train_28_28 = X_train.reshape(60000,28,28)\n",
    "X_train_28_28.shape"
   ]
  },
  {
   "cell_type": "code",
   "execution_count": 24,
   "metadata": {},
   "outputs": [],
   "source": [
    "rotate_train = []\n",
    "for i in range(60000):\n",
    "    angle = np.random.randint(0,360)\n",
    "    img = Image.fromarray(X_train_28_28[i]).rotate(angle)\n",
    "    rotate_train.append(np.array(img))"
   ]
  },
  {
   "cell_type": "code",
   "execution_count": 25,
   "metadata": {},
   "outputs": [
    {
     "data": {
      "text/plain": [
       "(60000, 28, 28)"
      ]
     },
     "execution_count": 25,
     "metadata": {},
     "output_type": "execute_result"
    }
   ],
   "source": [
    "rotate_train = np.array(rotate_train)\n",
    "rotate_train.shape"
   ]
  },
  {
   "cell_type": "markdown",
   "metadata": {},
   "source": [
    "### CNN 적용하기"
   ]
  },
  {
   "cell_type": "code",
   "execution_count": 4,
   "metadata": {},
   "outputs": [],
   "source": [
    "from tensorflow.keras.layers import Conv2D,MaxPool2D,Flatten"
   ]
  },
  {
   "cell_type": "code",
   "execution_count": 5,
   "metadata": {},
   "outputs": [],
   "source": [
    "cnn_model = Sequential()\n",
    "cnn_model.add(Conv2D(32,kernel_size=(3,3),\n",
    "                    input_shape=(28,28,1),\n",
    "                    activation='relu',\n",
    "                    padding='same'))\n",
    "cnn_model.add(Conv2D(32,kernel_size=(3,3),\n",
    "                    activation='relu',\n",
    "                    padding='same'))\n",
    "cnn_model.add(MaxPool2D(pool_size=2))\n",
    "\n",
    "cnn_model.add(Conv2D(64,kernel_size=(5,5),\n",
    "                    padding='same',\n",
    "                    activation='relu'))\n",
    "cnn_model.add(Conv2D(64,kernel_size=(5,5),\n",
    "                    padding='same',\n",
    "                    activation='relu'))\n",
    "cnn_model.add(MaxPool2D(pool_size=2))\n",
    "\n",
    "cnn_model.add(Conv2D(128,kernel_size=(3,3),\n",
    "                    padding='same',\n",
    "                    activation='relu'))\n",
    "cnn_model.add(Conv2D(128,kernel_size=(3,3),\n",
    "                    padding='same',\n",
    "                    activation='relu'))\n",
    "cnn_model.add(MaxPool2D(pool_size=2))\n",
    "\n",
    "cnn_model.add(Flatten())\n",
    "\n",
    "cnn_model.add(Dense(512,input_dim=784,activation='relu'))\n",
    "cnn_model.add(Dense(10,activation='softmax'))\n",
    "# model compile \n",
    "cnn_model.compile(loss='categorical_crossentropy',\n",
    "             optimizer='adam', metrics=['accuracy'])"
   ]
  },
  {
   "cell_type": "code",
   "execution_count": 6,
   "metadata": {},
   "outputs": [
    {
     "name": "stdout",
     "output_type": "stream",
     "text": [
      "Model: \"sequential\"\n",
      "_________________________________________________________________\n",
      "Layer (type)                 Output Shape              Param #   \n",
      "=================================================================\n",
      "conv2d (Conv2D)              (None, 28, 28, 32)        320       \n",
      "_________________________________________________________________\n",
      "conv2d_1 (Conv2D)            (None, 28, 28, 32)        9248      \n",
      "_________________________________________________________________\n",
      "max_pooling2d (MaxPooling2D) (None, 14, 14, 32)        0         \n",
      "_________________________________________________________________\n",
      "conv2d_2 (Conv2D)            (None, 14, 14, 64)        51264     \n",
      "_________________________________________________________________\n",
      "conv2d_3 (Conv2D)            (None, 14, 14, 64)        102464    \n",
      "_________________________________________________________________\n",
      "max_pooling2d_1 (MaxPooling2 (None, 7, 7, 64)          0         \n",
      "_________________________________________________________________\n",
      "conv2d_4 (Conv2D)            (None, 7, 7, 128)         73856     \n",
      "_________________________________________________________________\n",
      "conv2d_5 (Conv2D)            (None, 7, 7, 128)         147584    \n",
      "_________________________________________________________________\n",
      "max_pooling2d_2 (MaxPooling2 (None, 3, 3, 128)         0         \n",
      "_________________________________________________________________\n",
      "flatten (Flatten)            (None, 1152)              0         \n",
      "_________________________________________________________________\n",
      "dense (Dense)                (None, 512)               590336    \n",
      "_________________________________________________________________\n",
      "dense_1 (Dense)              (None, 10)                5130      \n",
      "=================================================================\n",
      "Total params: 980,202\n",
      "Trainable params: 980,202\n",
      "Non-trainable params: 0\n",
      "_________________________________________________________________\n"
     ]
    }
   ],
   "source": [
    "cnn_model.summary()"
   ]
  },
  {
   "cell_type": "code",
   "execution_count": 40,
   "metadata": {},
   "outputs": [],
   "source": [
    "earlyStopping2 = EarlyStopping(monitor='val_accuracy',\n",
    "                             patience=15)\n",
    "path = \"./model/CNN_{epoch:03d}_{val_accuracy:.4f}.hdf5\"\n",
    "modelCheckPoint2 = ModelCheckpoint(filepath=path,\n",
    "                                 monitor='val_accuracy',\n",
    "                                 verbose=1,\n",
    "                                 save_best_only=True)"
   ]
  },
  {
   "cell_type": "code",
   "execution_count": 41,
   "metadata": {
    "scrolled": true
   },
   "outputs": [
    {
     "name": "stdout",
     "output_type": "stream",
     "text": [
      "Train on 48000 samples, validate on 12000 samples\n",
      "Epoch 1/50\n",
      "47800/48000 [============================>.] - ETA: 0s - loss: 1.0356 - accuracy: 0.6659\n",
      "Epoch 00001: val_accuracy improved from -inf to 0.88358, saving model to ./model/CNN_001_0.8836.hdf5\n",
      "48000/48000 [==============================] - 87s 2ms/sample - loss: 1.0330 - accuracy: 0.6667 - val_loss: 0.3650 - val_accuracy: 0.8836\n",
      "Epoch 2/50\n",
      "47800/48000 [============================>.] - ETA: 0s - loss: 0.2473 - accuracy: 0.9209\n",
      "Epoch 00002: val_accuracy improved from 0.88358 to 0.93600, saving model to ./model/CNN_002_0.9360.hdf5\n",
      "48000/48000 [==============================] - 81s 2ms/sample - loss: 0.2474 - accuracy: 0.9210 - val_loss: 0.2034 - val_accuracy: 0.9360\n",
      "Epoch 3/50\n",
      "47800/48000 [============================>.] - ETA: 0s - loss: 0.1608 - accuracy: 0.9494\n",
      "Epoch 00003: val_accuracy improved from 0.93600 to 0.94192, saving model to ./model/CNN_003_0.9419.hdf5\n",
      "48000/48000 [==============================] - 76s 2ms/sample - loss: 0.1611 - accuracy: 0.9494 - val_loss: 0.1892 - val_accuracy: 0.9419\n",
      "Epoch 4/50\n",
      "47800/48000 [============================>.] - ETA: 0s - loss: 0.1191 - accuracy: 0.9616\n",
      "Epoch 00004: val_accuracy improved from 0.94192 to 0.95108, saving model to ./model/CNN_004_0.9511.hdf5\n",
      "48000/48000 [==============================] - 76s 2ms/sample - loss: 0.1191 - accuracy: 0.9615 - val_loss: 0.1587 - val_accuracy: 0.9511\n",
      "Epoch 5/50\n",
      "47800/48000 [============================>.] - ETA: 0s - loss: 0.0948 - accuracy: 0.9692\n",
      "Epoch 00005: val_accuracy did not improve from 0.95108\n",
      "48000/48000 [==============================] - 76s 2ms/sample - loss: 0.0949 - accuracy: 0.9693 - val_loss: 0.1873 - val_accuracy: 0.9432\n",
      "Epoch 6/50\n",
      "47800/48000 [============================>.] - ETA: 0s - loss: 0.0779 - accuracy: 0.9736\n",
      "Epoch 00006: val_accuracy improved from 0.95108 to 0.95658, saving model to ./model/CNN_006_0.9566.hdf5\n",
      "48000/48000 [==============================] - 76s 2ms/sample - loss: 0.0779 - accuracy: 0.9736 - val_loss: 0.1520 - val_accuracy: 0.9566\n",
      "Epoch 7/50\n",
      "47800/48000 [============================>.] - ETA: 0s - loss: 0.0637 - accuracy: 0.9786\n",
      "Epoch 00007: val_accuracy improved from 0.95658 to 0.96117, saving model to ./model/CNN_007_0.9612.hdf5\n",
      "48000/48000 [==============================] - 76s 2ms/sample - loss: 0.0636 - accuracy: 0.9786 - val_loss: 0.1442 - val_accuracy: 0.9612\n",
      "Epoch 8/50\n",
      "47800/48000 [============================>.] - ETA: 0s - loss: 0.0536 - accuracy: 0.9816\n",
      "Epoch 00008: val_accuracy did not improve from 0.96117\n",
      "48000/48000 [==============================] - 76s 2ms/sample - loss: 0.0535 - accuracy: 0.9816 - val_loss: 0.1458 - val_accuracy: 0.9610\n",
      "Epoch 9/50\n",
      "47800/48000 [============================>.] - ETA: 0s - loss: 0.0495 - accuracy: 0.9832\n",
      "Epoch 00009: val_accuracy did not improve from 0.96117\n",
      "48000/48000 [==============================] - 84s 2ms/sample - loss: 0.0494 - accuracy: 0.9833 - val_loss: 0.1679 - val_accuracy: 0.9582\n",
      "Epoch 10/50\n",
      "47800/48000 [============================>.] - ETA: 0s - loss: 0.0489 - accuracy: 0.9830\n",
      "Epoch 00010: val_accuracy did not improve from 0.96117\n",
      "48000/48000 [==============================] - 88s 2ms/sample - loss: 0.0489 - accuracy: 0.9830 - val_loss: 0.1591 - val_accuracy: 0.9573\n",
      "Epoch 11/50\n",
      "47800/48000 [============================>.] - ETA: 0s - loss: 0.0431 - accuracy: 0.9849\n",
      "Epoch 00011: val_accuracy did not improve from 0.96117\n",
      "48000/48000 [==============================] - 82s 2ms/sample - loss: 0.0432 - accuracy: 0.9849 - val_loss: 0.1712 - val_accuracy: 0.9575\n",
      "Epoch 12/50\n",
      "47800/48000 [============================>.] - ETA: 0s - loss: 0.0358 - accuracy: 0.9876\n",
      "Epoch 00012: val_accuracy did not improve from 0.96117\n",
      "48000/48000 [==============================] - 82s 2ms/sample - loss: 0.0357 - accuracy: 0.9876 - val_loss: 0.1860 - val_accuracy: 0.9610\n",
      "Epoch 13/50\n",
      "47800/48000 [============================>.] - ETA: 0s - loss: 0.0376 - accuracy: 0.9874\n",
      "Epoch 00013: val_accuracy did not improve from 0.96117\n",
      "48000/48000 [==============================] - 82s 2ms/sample - loss: 0.0376 - accuracy: 0.9874 - val_loss: 0.1650 - val_accuracy: 0.9607\n",
      "Epoch 14/50\n",
      "47800/48000 [============================>.] - ETA: 0s - loss: 0.0353 - accuracy: 0.9876\n",
      "Epoch 00014: val_accuracy did not improve from 0.96117\n",
      "48000/48000 [==============================] - 82s 2ms/sample - loss: 0.0352 - accuracy: 0.9877 - val_loss: 0.1677 - val_accuracy: 0.9611\n",
      "Epoch 15/50\n",
      "47800/48000 [============================>.] - ETA: 0s - loss: 0.0343 - accuracy: 0.9889\n",
      "Epoch 00015: val_accuracy did not improve from 0.96117\n",
      "48000/48000 [==============================] - 82s 2ms/sample - loss: 0.0342 - accuracy: 0.9889 - val_loss: 0.1787 - val_accuracy: 0.9585\n",
      "Epoch 16/50\n",
      "47800/48000 [============================>.] - ETA: 0s - loss: 0.0314 - accuracy: 0.9900\n",
      "Epoch 00016: val_accuracy improved from 0.96117 to 0.96392, saving model to ./model/CNN_016_0.9639.hdf5\n",
      "48000/48000 [==============================] - 82s 2ms/sample - loss: 0.0314 - accuracy: 0.9900 - val_loss: 0.1714 - val_accuracy: 0.9639\n",
      "Epoch 17/50\n",
      "47800/48000 [============================>.] - ETA: 0s - loss: 0.0307 - accuracy: 0.9894\n",
      "Epoch 00017: val_accuracy did not improve from 0.96392\n",
      "48000/48000 [==============================] - 83s 2ms/sample - loss: 0.0307 - accuracy: 0.9894 - val_loss: 0.1582 - val_accuracy: 0.9636\n",
      "Epoch 18/50\n",
      "47800/48000 [============================>.] - ETA: 0s - loss: 0.0316 - accuracy: 0.9896\n",
      "Epoch 00018: val_accuracy did not improve from 0.96392\n",
      "48000/48000 [==============================] - 88s 2ms/sample - loss: 0.0316 - accuracy: 0.9896 - val_loss: 0.1911 - val_accuracy: 0.9613\n",
      "Epoch 19/50\n",
      "47800/48000 [============================>.] - ETA: 0s - loss: 0.0294 - accuracy: 0.9900\n",
      "Epoch 00019: val_accuracy did not improve from 0.96392\n",
      "48000/48000 [==============================] - 87s 2ms/sample - loss: 0.0294 - accuracy: 0.9900 - val_loss: 0.1916 - val_accuracy: 0.9592\n",
      "Epoch 20/50\n",
      "47800/48000 [============================>.] - ETA: 0s - loss: 0.0277 - accuracy: 0.9907\n",
      "Epoch 00020: val_accuracy did not improve from 0.96392\n",
      "48000/48000 [==============================] - 85s 2ms/sample - loss: 0.0277 - accuracy: 0.9907 - val_loss: 0.1850 - val_accuracy: 0.9563\n",
      "Epoch 21/50\n",
      "47800/48000 [============================>.] - ETA: 0s - loss: 0.0247 - accuracy: 0.9913\n",
      "Epoch 00021: val_accuracy improved from 0.96392 to 0.96675, saving model to ./model/CNN_021_0.9668.hdf5\n",
      "48000/48000 [==============================] - 84s 2ms/sample - loss: 0.0247 - accuracy: 0.9914 - val_loss: 0.1886 - val_accuracy: 0.9668\n",
      "Epoch 22/50\n",
      "47800/48000 [============================>.] - ETA: 0s - loss: 0.0280 - accuracy: 0.9912\n",
      "Epoch 00022: val_accuracy did not improve from 0.96675\n",
      "48000/48000 [==============================] - 83s 2ms/sample - loss: 0.0280 - accuracy: 0.9913 - val_loss: 0.2384 - val_accuracy: 0.9603\n",
      "Epoch 23/50\n",
      "47800/48000 [============================>.] - ETA: 0s - loss: 0.0259 - accuracy: 0.9914\n",
      "Epoch 00023: val_accuracy did not improve from 0.96675\n",
      "48000/48000 [==============================] - 83s 2ms/sample - loss: 0.0260 - accuracy: 0.9914 - val_loss: 0.1967 - val_accuracy: 0.9644\n",
      "Epoch 24/50\n",
      "47800/48000 [============================>.] - ETA: 0s - loss: 0.0284 - accuracy: 0.9907\n",
      "Epoch 00024: val_accuracy did not improve from 0.96675\n",
      "48000/48000 [==============================] - 85s 2ms/sample - loss: 0.0283 - accuracy: 0.9908 - val_loss: 0.1903 - val_accuracy: 0.9629\n",
      "Epoch 25/50\n",
      "47800/48000 [============================>.] - ETA: 0s - loss: 0.0179 - accuracy: 0.9941\n",
      "Epoch 00025: val_accuracy did not improve from 0.96675\n",
      "48000/48000 [==============================] - 86s 2ms/sample - loss: 0.0178 - accuracy: 0.9941 - val_loss: 0.2103 - val_accuracy: 0.9602\n",
      "Epoch 26/50\n",
      "47800/48000 [============================>.] - ETA: 0s - loss: 0.0212 - accuracy: 0.9929\n",
      "Epoch 00026: val_accuracy did not improve from 0.96675\n",
      "48000/48000 [==============================] - 84s 2ms/sample - loss: 0.0212 - accuracy: 0.9930 - val_loss: 0.1930 - val_accuracy: 0.9633\n",
      "Epoch 27/50\n",
      "47800/48000 [============================>.] - ETA: 0s - loss: 0.0292 - accuracy: 0.9905\n",
      "Epoch 00027: val_accuracy did not improve from 0.96675\n",
      "48000/48000 [==============================] - 83s 2ms/sample - loss: 0.0291 - accuracy: 0.9905 - val_loss: 0.1753 - val_accuracy: 0.9631\n"
     ]
    },
    {
     "name": "stdout",
     "output_type": "stream",
     "text": [
      "Epoch 28/50\n",
      "47800/48000 [============================>.] - ETA: 0s - loss: 0.0259 - accuracy: 0.9914\n",
      "Epoch 00028: val_accuracy did not improve from 0.96675\n",
      "48000/48000 [==============================] - 83s 2ms/sample - loss: 0.0258 - accuracy: 0.9914 - val_loss: 0.1861 - val_accuracy: 0.9621\n",
      "Epoch 29/50\n",
      "47800/48000 [============================>.] - ETA: 0s - loss: 0.0247 - accuracy: 0.9918\n",
      "Epoch 00029: val_accuracy did not improve from 0.96675\n",
      "48000/48000 [==============================] - 83s 2ms/sample - loss: 0.0246 - accuracy: 0.9918 - val_loss: 0.1821 - val_accuracy: 0.9618\n",
      "Epoch 30/50\n",
      "47800/48000 [============================>.] - ETA: 0s - loss: 0.0223 - accuracy: 0.9926\n",
      "Epoch 00030: val_accuracy did not improve from 0.96675\n",
      "48000/48000 [==============================] - 84s 2ms/sample - loss: 0.0223 - accuracy: 0.9926 - val_loss: 0.1882 - val_accuracy: 0.9583\n",
      "Epoch 31/50\n",
      "47800/48000 [============================>.] - ETA: 0s - loss: 0.0230 - accuracy: 0.9925\n",
      "Epoch 00031: val_accuracy did not improve from 0.96675\n",
      "48000/48000 [==============================] - 86s 2ms/sample - loss: 0.0229 - accuracy: 0.9925 - val_loss: 0.2164 - val_accuracy: 0.9632\n",
      "Epoch 32/50\n",
      "47800/48000 [============================>.] - ETA: 0s - loss: 0.0191 - accuracy: 0.9938\n",
      "Epoch 00032: val_accuracy did not improve from 0.96675\n",
      "48000/48000 [==============================] - 89s 2ms/sample - loss: 0.0191 - accuracy: 0.9938 - val_loss: 0.2755 - val_accuracy: 0.9539\n",
      "Epoch 33/50\n",
      "47800/48000 [============================>.] - ETA: 0s - loss: 0.0245 - accuracy: 0.9925\n",
      "Epoch 00033: val_accuracy did not improve from 0.96675\n",
      "48000/48000 [==============================] - 85s 2ms/sample - loss: 0.0246 - accuracy: 0.9925 - val_loss: 0.1810 - val_accuracy: 0.9623\n",
      "Epoch 34/50\n",
      "47800/48000 [============================>.] - ETA: 0s - loss: 0.0193 - accuracy: 0.9941\n",
      "Epoch 00034: val_accuracy did not improve from 0.96675\n",
      "48000/48000 [==============================] - 87s 2ms/sample - loss: 0.0193 - accuracy: 0.9940 - val_loss: 0.2197 - val_accuracy: 0.9609\n",
      "Epoch 35/50\n",
      "47800/48000 [============================>.] - ETA: 0s - loss: 0.0209 - accuracy: 0.9937\n",
      "Epoch 00035: val_accuracy did not improve from 0.96675\n",
      "48000/48000 [==============================] - 86s 2ms/sample - loss: 0.0210 - accuracy: 0.9936 - val_loss: 0.2041 - val_accuracy: 0.9634\n",
      "Epoch 36/50\n",
      "47800/48000 [============================>.] - ETA: 0s - loss: 0.0191 - accuracy: 0.9939\n",
      "Epoch 00036: val_accuracy did not improve from 0.96675\n",
      "48000/48000 [==============================] - 86s 2ms/sample - loss: 0.0191 - accuracy: 0.9938 - val_loss: 0.2466 - val_accuracy: 0.9617\n"
     ]
    }
   ],
   "source": [
    "history = cnn_model.fit(rotate_train.reshape(60000,28,28,1),\n",
    "                        y_train,\n",
    "                    epochs=50,\n",
    "                    validation_split=0.2,\n",
    "                   batch_size=200,\n",
    "                   callbacks=[earlyStopping2,modelCheckPoint2])"
   ]
  },
  {
   "cell_type": "code",
   "execution_count": 42,
   "metadata": {},
   "outputs": [],
   "source": [
    "final_cnn_model = load_model('./model/CNN_021_0.9668.hdf5')"
   ]
  },
  {
   "cell_type": "code",
   "execution_count": 43,
   "metadata": {
    "scrolled": true
   },
   "outputs": [
    {
     "name": "stdout",
     "output_type": "stream",
     "text": [
      "10000/10000 [==============================] - 4s 427us/sample - loss: 0.1973 - accuracy: 0.9640\n"
     ]
    },
    {
     "data": {
      "text/plain": [
       "[0.1972596633477121, 0.964]"
      ]
     },
     "execution_count": 43,
     "metadata": {},
     "output_type": "execute_result"
    }
   ],
   "source": [
    "final_cnn_model.evaluate(rotate_test.reshape(10000,28,28,1),\n",
    "                  y_test)"
   ]
  },
  {
   "cell_type": "markdown",
   "metadata": {},
   "source": [
    "### 회전된 데이터로 MLP 모델 만든후 점수 비교해보기"
   ]
  },
  {
   "cell_type": "code",
   "execution_count": 36,
   "metadata": {},
   "outputs": [],
   "source": [
    "# model 쌓는 부분\n",
    "mlp_model = Sequential()\n",
    "mlp_model.add(Dense(512,input_dim=784,activation='relu'))\n",
    "mlp_model.add(Dense(10,activation='softmax'))\n",
    "# model compile \n",
    "mlp_model.compile(loss='categorical_crossentropy',\n",
    "             optimizer='adam', metrics=['accuracy'])"
   ]
  },
  {
   "cell_type": "code",
   "execution_count": 37,
   "metadata": {
    "collapsed": true
   },
   "outputs": [
    {
     "name": "stdout",
     "output_type": "stream",
     "text": [
      "Train on 48000 samples, validate on 12000 samples\n",
      "Epoch 1/50\n",
      "48000/48000 [==============================] - 1s 29us/sample - loss: 14.3875 - accuracy: 0.5803 - val_loss: 2.6876 - val_accuracy: 0.6577\n",
      "Epoch 2/50\n",
      "48000/48000 [==============================] - 1s 21us/sample - loss: 1.5768 - accuracy: 0.6909 - val_loss: 1.3736 - val_accuracy: 0.6968\n",
      "Epoch 3/50\n",
      "48000/48000 [==============================] - 1s 23us/sample - loss: 0.8629 - accuracy: 0.7744 - val_loss: 1.1677 - val_accuracy: 0.7477\n",
      "Epoch 4/50\n",
      "48000/48000 [==============================] - 1s 20us/sample - loss: 0.5815 - accuracy: 0.8329 - val_loss: 1.0437 - val_accuracy: 0.7761\n",
      "Epoch 5/50\n",
      "48000/48000 [==============================] - 1s 20us/sample - loss: 0.4249 - accuracy: 0.8724 - val_loss: 0.9924 - val_accuracy: 0.7903\n",
      "Epoch 6/50\n",
      "48000/48000 [==============================] - 1s 20us/sample - loss: 0.3385 - accuracy: 0.8938 - val_loss: 0.9907 - val_accuracy: 0.8039\n",
      "Epoch 7/50\n",
      "48000/48000 [==============================] - 1s 20us/sample - loss: 0.2743 - accuracy: 0.9126 - val_loss: 0.9537 - val_accuracy: 0.8144\n",
      "Epoch 8/50\n",
      "48000/48000 [==============================] - 1s 19us/sample - loss: 0.2348 - accuracy: 0.9245 - val_loss: 0.9495 - val_accuracy: 0.8206\n",
      "Epoch 9/50\n",
      "48000/48000 [==============================] - 1s 21us/sample - loss: 0.2080 - accuracy: 0.9343 - val_loss: 0.9478 - val_accuracy: 0.8213\n",
      "Epoch 10/50\n",
      "48000/48000 [==============================] - 1s 20us/sample - loss: 0.1954 - accuracy: 0.9370 - val_loss: 1.0152 - val_accuracy: 0.8279\n",
      "Epoch 11/50\n",
      "48000/48000 [==============================] - 1s 20us/sample - loss: 0.2115 - accuracy: 0.9349 - val_loss: 0.9922 - val_accuracy: 0.8310\n",
      "Epoch 12/50\n",
      "48000/48000 [==============================] - 1s 20us/sample - loss: 0.2207 - accuracy: 0.9340 - val_loss: 1.0363 - val_accuracy: 0.8280\n",
      "Epoch 13/50\n",
      "48000/48000 [==============================] - 1s 20us/sample - loss: 0.2136 - accuracy: 0.9361 - val_loss: 1.0007 - val_accuracy: 0.8353\n",
      "Epoch 14/50\n",
      "48000/48000 [==============================] - 1s 20us/sample - loss: 0.2136 - accuracy: 0.9364 - val_loss: 0.9814 - val_accuracy: 0.8393\n",
      "Epoch 15/50\n",
      "48000/48000 [==============================] - 1s 21us/sample - loss: 0.2174 - accuracy: 0.9369 - val_loss: 0.9905 - val_accuracy: 0.8478\n",
      "Epoch 16/50\n",
      "48000/48000 [==============================] - 1s 20us/sample - loss: 0.2145 - accuracy: 0.9395 - val_loss: 0.9970 - val_accuracy: 0.8456\n",
      "Epoch 17/50\n",
      "48000/48000 [==============================] - 1s 21us/sample - loss: 0.2061 - accuracy: 0.9425 - val_loss: 1.0604 - val_accuracy: 0.8457\n",
      "Epoch 18/50\n",
      "48000/48000 [==============================] - 1s 20us/sample - loss: 0.2133 - accuracy: 0.9424 - val_loss: 1.0217 - val_accuracy: 0.8458\n",
      "Epoch 19/50\n",
      "48000/48000 [==============================] - 1s 19us/sample - loss: 0.2135 - accuracy: 0.9426 - val_loss: 1.0327 - val_accuracy: 0.8518\n",
      "Epoch 20/50\n",
      "48000/48000 [==============================] - 1s 19us/sample - loss: 0.2092 - accuracy: 0.9449 - val_loss: 0.9845 - val_accuracy: 0.8603\n",
      "Epoch 21/50\n",
      "48000/48000 [==============================] - 1s 20us/sample - loss: 0.2176 - accuracy: 0.9445 - val_loss: 1.0736 - val_accuracy: 0.8574\n",
      "Epoch 22/50\n",
      "48000/48000 [==============================] - 1s 20us/sample - loss: 0.1985 - accuracy: 0.9468 - val_loss: 1.0515 - val_accuracy: 0.8607\n",
      "Epoch 23/50\n",
      "48000/48000 [==============================] - 1s 19us/sample - loss: 0.1873 - accuracy: 0.9513 - val_loss: 1.0592 - val_accuracy: 0.8652\n",
      "Epoch 24/50\n",
      "48000/48000 [==============================] - 1s 19us/sample - loss: 0.1995 - accuracy: 0.9500 - val_loss: 1.0413 - val_accuracy: 0.8682\n",
      "Epoch 25/50\n",
      "48000/48000 [==============================] - 1s 19us/sample - loss: 0.1860 - accuracy: 0.9531 - val_loss: 1.0041 - val_accuracy: 0.8677\n",
      "Epoch 26/50\n",
      "48000/48000 [==============================] - 1s 20us/sample - loss: 0.1800 - accuracy: 0.9556 - val_loss: 1.1501 - val_accuracy: 0.8648\n",
      "Epoch 27/50\n",
      "48000/48000 [==============================] - 1s 20us/sample - loss: 0.1938 - accuracy: 0.9539 - val_loss: 1.1195 - val_accuracy: 0.8672\n",
      "Epoch 28/50\n",
      "48000/48000 [==============================] - 1s 20us/sample - loss: 0.1812 - accuracy: 0.9580 - val_loss: 1.1016 - val_accuracy: 0.8678\n",
      "Epoch 29/50\n",
      "48000/48000 [==============================] - 1s 19us/sample - loss: 0.1763 - accuracy: 0.9579 - val_loss: 1.1053 - val_accuracy: 0.8727\n",
      "Epoch 30/50\n",
      "48000/48000 [==============================] - 1s 20us/sample - loss: 0.1684 - accuracy: 0.9608 - val_loss: 1.2051 - val_accuracy: 0.8668\n",
      "Epoch 31/50\n",
      "48000/48000 [==============================] - 1s 19us/sample - loss: 0.1711 - accuracy: 0.9595 - val_loss: 1.1723 - val_accuracy: 0.8727\n",
      "Epoch 32/50\n",
      "48000/48000 [==============================] - 1s 19us/sample - loss: 0.1653 - accuracy: 0.9628 - val_loss: 1.3077 - val_accuracy: 0.8743\n",
      "Epoch 33/50\n",
      "48000/48000 [==============================] - 1s 20us/sample - loss: 0.1758 - accuracy: 0.9624 - val_loss: 1.3469 - val_accuracy: 0.8739\n",
      "Epoch 34/50\n",
      "48000/48000 [==============================] - 1s 20us/sample - loss: 0.1768 - accuracy: 0.9626 - val_loss: 1.3270 - val_accuracy: 0.8750\n",
      "Epoch 35/50\n",
      "48000/48000 [==============================] - 1s 19us/sample - loss: 0.1522 - accuracy: 0.9665 - val_loss: 1.3710 - val_accuracy: 0.8753\n",
      "Epoch 36/50\n",
      "48000/48000 [==============================] - 1s 20us/sample - loss: 0.1374 - accuracy: 0.9693 - val_loss: 1.3581 - val_accuracy: 0.8813\n",
      "Epoch 37/50\n",
      "48000/48000 [==============================] - 1s 20us/sample - loss: 0.1366 - accuracy: 0.9709 - val_loss: 1.3935 - val_accuracy: 0.8778\n",
      "Epoch 38/50\n",
      "48000/48000 [==============================] - 1s 20us/sample - loss: 0.1287 - accuracy: 0.9720 - val_loss: 1.4861 - val_accuracy: 0.8781\n",
      "Epoch 39/50\n",
      "48000/48000 [==============================] - 1s 22us/sample - loss: 0.1641 - accuracy: 0.9677 - val_loss: 1.4712 - val_accuracy: 0.8767\n",
      "Epoch 40/50\n",
      "48000/48000 [==============================] - 1s 20us/sample - loss: 0.1695 - accuracy: 0.9663 - val_loss: 1.6312 - val_accuracy: 0.8756\n",
      "Epoch 41/50\n",
      "48000/48000 [==============================] - 1s 19us/sample - loss: 0.1654 - accuracy: 0.9672 - val_loss: 1.5469 - val_accuracy: 0.8798\n",
      "Epoch 42/50\n",
      "48000/48000 [==============================] - 1s 19us/sample - loss: 0.1288 - accuracy: 0.9735 - val_loss: 1.5537 - val_accuracy: 0.8807\n",
      "Epoch 43/50\n",
      "48000/48000 [==============================] - 1s 20us/sample - loss: 0.1122 - accuracy: 0.9764 - val_loss: 1.5676 - val_accuracy: 0.8824\n",
      "Epoch 44/50\n",
      "48000/48000 [==============================] - 1s 20us/sample - loss: 0.1313 - accuracy: 0.9752 - val_loss: 1.7260 - val_accuracy: 0.8752\n",
      "Epoch 45/50\n",
      "48000/48000 [==============================] - 1s 19us/sample - loss: 0.1354 - accuracy: 0.9754 - val_loss: 1.7421 - val_accuracy: 0.8803\n",
      "Epoch 46/50\n",
      "48000/48000 [==============================] - 1s 19us/sample - loss: 0.1576 - accuracy: 0.9720 - val_loss: 1.6655 - val_accuracy: 0.8774\n",
      "Epoch 47/50\n",
      "48000/48000 [==============================] - 1s 19us/sample - loss: 0.1383 - accuracy: 0.9742 - val_loss: 1.8219 - val_accuracy: 0.8819\n",
      "Epoch 48/50\n",
      "48000/48000 [==============================] - 1s 19us/sample - loss: 0.1314 - accuracy: 0.9759 - val_loss: 1.7974 - val_accuracy: 0.8817\n",
      "Epoch 49/50\n",
      "48000/48000 [==============================] - 1s 19us/sample - loss: 0.1329 - accuracy: 0.9761 - val_loss: 1.8087 - val_accuracy: 0.8867\n",
      "Epoch 50/50\n",
      "48000/48000 [==============================] - 1s 20us/sample - loss: 0.1331 - accuracy: 0.9772 - val_loss: 1.8020 - val_accuracy: 0.8830\n"
     ]
    }
   ],
   "source": [
    "history = mlp_model.fit(rotate_train.reshape(60000,784),\n",
    "                        y_train,\n",
    "                    epochs=50,\n",
    "                    validation_split=0.2,\n",
    "                   batch_size=200)"
   ]
  },
  {
   "cell_type": "code",
   "execution_count": 38,
   "metadata": {},
   "outputs": [
    {
     "name": "stdout",
     "output_type": "stream",
     "text": [
      "10000/10000 [==============================] - 0s 39us/sample - loss: 1.8376 - accuracy: 0.8808\n"
     ]
    },
    {
     "data": {
      "text/plain": [
       "[1.8376069408471838, 0.8808]"
      ]
     },
     "execution_count": 38,
     "metadata": {},
     "output_type": "execute_result"
    }
   ],
   "source": [
    "mlp_model.evaluate(rotate_test.reshape(10000,784),y_test)"
   ]
  }
 ],
 "metadata": {
  "kernelspec": {
   "display_name": "Python 3",
   "language": "python",
   "name": "python3"
  },
  "language_info": {
   "codemirror_mode": {
    "name": "ipython",
    "version": 3
   },
   "file_extension": ".py",
   "mimetype": "text/x-python",
   "name": "python",
   "nbconvert_exporter": "python",
   "pygments_lexer": "ipython3",
   "version": "3.7.9"
  }
 },
 "nbformat": 4,
 "nbformat_minor": 4
}
