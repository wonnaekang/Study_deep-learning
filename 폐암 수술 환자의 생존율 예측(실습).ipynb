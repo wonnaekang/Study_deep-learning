{
 "cells": [
  {
   "cell_type": "code",
   "execution_count": 1,
   "metadata": {},
   "outputs": [],
   "source": [
    "# 딥러닝을 구동하는 데 필요한 케라스 함수를 불러옵니다.\n",
    "from keras.models import Sequential\n",
    "from keras.layers import Dense"
   ]
  },
  {
   "cell_type": "code",
   "execution_count": 4,
   "metadata": {},
   "outputs": [],
   "source": [
    "# 필요한 라이브러리를 불러옵니다.\n",
    "import numpy\n",
    "import tensorflow as tf"
   ]
  },
  {
   "cell_type": "code",
   "execution_count": 7,
   "metadata": {},
   "outputs": [],
   "source": [
    "# 실행할 때마다 같은 결과를 출력하기 위해 설정하는 부분입니다.\n",
    "seed = 3\n",
    "numpy.random.seed(seed)\n",
    "tf.random.set_seed(seed)"
   ]
  },
  {
   "cell_type": "code",
   "execution_count": 10,
   "metadata": {},
   "outputs": [],
   "source": [
    "# 준비된 수술 환자 데이터를 불러들입니다.\n",
    "Data_set = numpy.loadtxt(\"./dataset/ThoraricSurgery.csv\", delimiter=\",\")"
   ]
  },
  {
   "cell_type": "code",
   "execution_count": 11,
   "metadata": {},
   "outputs": [],
   "source": [
    "# 환자의 기록과 수술 결과를 X와 Y로 구분하여 저장합니다.\n",
    "X = Data_set[:,0:17]\n",
    "Y = Data_set[:,17]"
   ]
  },
  {
   "cell_type": "code",
   "execution_count": 12,
   "metadata": {},
   "outputs": [],
   "source": [
    "# 딥러닝 구조를 결정합니다(모델을 설정하고 실행하는 부분입니다).\n",
    "# Sequential 딥러닝 구조를 쌓아올릴 수 있게 해줍니다.\n",
    "# model.add >> 층을 추가하는 함수\n",
    "# 각 층이 어떤 특성을 가질지 옵션 설정\n",
    "# activation >> relu , sigmoid\n",
    "\n",
    "model = Sequential()\n",
    "model.add(Dense(30, input_dim=17, activation='relu'))\n",
    "model.add(Dense(1, activation='sigmoid'))"
   ]
  },
  {
   "cell_type": "code",
   "execution_count": 13,
   "metadata": {},
   "outputs": [
    {
     "name": "stdout",
     "output_type": "stream",
     "text": [
      "Epoch 1/30\n",
      "47/47 [==============================] - 0s 2ms/step - loss: 0.1485 - accuracy: 0.8426\n",
      "Epoch 2/30\n",
      "47/47 [==============================] - 0s 2ms/step - loss: 0.1402 - accuracy: 0.8511\n",
      "Epoch 3/30\n",
      "47/47 [==============================] - 0s 2ms/step - loss: 0.1433 - accuracy: 0.8489\n",
      "Epoch 4/30\n",
      "47/47 [==============================] - 0s 1ms/step - loss: 0.1395 - accuracy: 0.8511\n",
      "Epoch 5/30\n",
      "47/47 [==============================] - 0s 1ms/step - loss: 0.1386 - accuracy: 0.8468\n",
      "Epoch 6/30\n",
      "47/47 [==============================] - 0s 2ms/step - loss: 0.1407 - accuracy: 0.8511\n",
      "Epoch 7/30\n",
      "47/47 [==============================] - 0s 2ms/step - loss: 0.1336 - accuracy: 0.8489\n",
      "Epoch 8/30\n",
      "47/47 [==============================] - 0s 2ms/step - loss: 0.1384 - accuracy: 0.8511\n",
      "Epoch 9/30\n",
      "47/47 [==============================] - 0s 2ms/step - loss: 0.1377 - accuracy: 0.8383\n",
      "Epoch 10/30\n",
      "47/47 [==============================] - 0s 2ms/step - loss: 0.1438 - accuracy: 0.8447\n",
      "Epoch 11/30\n",
      "47/47 [==============================] - 0s 2ms/step - loss: 0.1409 - accuracy: 0.8511\n",
      "Epoch 12/30\n",
      "47/47 [==============================] - 0s 2ms/step - loss: 0.1368 - accuracy: 0.8489\n",
      "Epoch 13/30\n",
      "47/47 [==============================] - 0s 3ms/step - loss: 0.1352 - accuracy: 0.8511\n",
      "Epoch 14/30\n",
      "47/47 [==============================] - 0s 2ms/step - loss: 0.1385 - accuracy: 0.8489\n",
      "Epoch 15/30\n",
      "47/47 [==============================] - 0s 2ms/step - loss: 0.1368 - accuracy: 0.8362\n",
      "Epoch 16/30\n",
      "47/47 [==============================] - 0s 2ms/step - loss: 0.1449 - accuracy: 0.8511\n",
      "Epoch 17/30\n",
      "47/47 [==============================] - 0s 2ms/step - loss: 0.1432 - accuracy: 0.8489\n",
      "Epoch 18/30\n",
      "47/47 [==============================] - 0s 2ms/step - loss: 0.1426 - accuracy: 0.8511\n",
      "Epoch 19/30\n",
      "47/47 [==============================] - 0s 2ms/step - loss: 0.1420 - accuracy: 0.8511\n",
      "Epoch 20/30\n",
      "47/47 [==============================] - 0s 2ms/step - loss: 0.1414 - accuracy: 0.8511\n",
      "Epoch 21/30\n",
      "47/47 [==============================] - 0s 2ms/step - loss: 0.1421 - accuracy: 0.8511\n",
      "Epoch 22/30\n",
      "47/47 [==============================] - 0s 2ms/step - loss: 0.1426 - accuracy: 0.8511\n",
      "Epoch 23/30\n",
      "47/47 [==============================] - 0s 2ms/step - loss: 0.1405 - accuracy: 0.8511\n",
      "Epoch 24/30\n",
      "47/47 [==============================] - 0s 2ms/step - loss: 0.1375 - accuracy: 0.8511\n",
      "Epoch 25/30\n",
      "47/47 [==============================] - 0s 2ms/step - loss: 0.1341 - accuracy: 0.8511\n",
      "Epoch 26/30\n",
      "47/47 [==============================] - 0s 2ms/step - loss: 0.1376 - accuracy: 0.8489\n",
      "Epoch 27/30\n",
      "47/47 [==============================] - 0s 2ms/step - loss: 0.1402 - accuracy: 0.8489\n",
      "Epoch 28/30\n",
      "47/47 [==============================] - 0s 2ms/step - loss: 0.1394 - accuracy: 0.8489\n",
      "Epoch 29/30\n",
      "47/47 [==============================] - 0s 2ms/step - loss: 0.1374 - accuracy: 0.8511\n",
      "Epoch 30/30\n",
      "47/47 [==============================] - 0s 2ms/step - loss: 0.1299 - accuracy: 0.8511\n"
     ]
    },
    {
     "data": {
      "text/plain": [
       "<tensorflow.python.keras.callbacks.History at 0x2289e6bf188>"
      ]
     },
     "execution_count": 13,
     "metadata": {},
     "output_type": "execute_result"
    }
   ],
   "source": [
    "# 딥러닝을 실행합니다.\n",
    "# loss >> 오차 값을 추적하는 함수\n",
    "# optimizer >> 오차를 어떻게 줄여 나갈지 정하는 함수\n",
    "# compile >> 지정한 모델을 효과적으로 구현될 수 있게 여러 가지 환경을 설정\n",
    "# adam >> **고급 경사 하강법\n",
    "model.compile(loss='mean_squared_error', optimizer='adam', metrics=['accuracy'])\n",
    "model.fit(X, Y, epochs=30, batch_size=10)"
   ]
  },
  {
   "cell_type": "code",
   "execution_count": 14,
   "metadata": {},
   "outputs": [
    {
     "name": "stdout",
     "output_type": "stream",
     "text": [
      "15/15 [==============================] - 0s 2ms/step - loss: 0.1317 - accuracy: 0.8511\n",
      "\n",
      " Accuracy: 0.8511\n"
     ]
    }
   ],
   "source": [
    "# 결과를 출력합니다.\n",
    "print(\"\\n Accuracy: %.4f\" % (model.evaluate(X, Y)[1]))"
   ]
  },
  {
   "cell_type": "code",
   "execution_count": null,
   "metadata": {},
   "outputs": [],
   "source": []
  }
 ],
 "metadata": {
  "kernelspec": {
   "display_name": "Python 3",
   "language": "python",
   "name": "python3"
  },
  "language_info": {
   "codemirror_mode": {
    "name": "ipython",
    "version": 3
   },
   "file_extension": ".py",
   "mimetype": "text/x-python",
   "name": "python",
   "nbconvert_exporter": "python",
   "pygments_lexer": "ipython3",
   "version": "3.7.9"
  }
 },
 "nbformat": 4,
 "nbformat_minor": 4
}
