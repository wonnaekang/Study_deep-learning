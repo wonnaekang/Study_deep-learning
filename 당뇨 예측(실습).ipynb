{
 "cells": [
  {
   "cell_type": "code",
   "execution_count": 1,
   "metadata": {},
   "outputs": [],
   "source": [
    "from keras.models import Sequential\n",
    "from keras.layers import Dense\n",
    "import numpy\n",
    "import tensorflow as tf"
   ]
  },
  {
   "cell_type": "code",
   "execution_count": 2,
   "metadata": {},
   "outputs": [],
   "source": [
    "seed = 0\n",
    "numpy.random.seed(seed)\n",
    "tf.random.set_seed(seed)"
   ]
  },
  {
   "cell_type": "code",
   "execution_count": 3,
   "metadata": {},
   "outputs": [],
   "source": [
    "dataset = numpy.loadtxt(\"./dataset/pima-indians-diabetes.csv\", delimiter=\",\")\n",
    "X = dataset[:,0:8]\n",
    "Y = dataset[:,8]"
   ]
  },
  {
   "cell_type": "code",
   "execution_count": 4,
   "metadata": {},
   "outputs": [],
   "source": [
    "# 모델의 설정\n",
    "model = Sequential()\n",
    "model.add(Dense(12, input_dim=8, activation='relu'))\n",
    "model.add(Dense(8, activation='relu'))\n",
    "model.add(Dense(1, activation='sigmoid'))"
   ]
  },
  {
   "cell_type": "code",
   "execution_count": 5,
   "metadata": {},
   "outputs": [],
   "source": [
    "# 모델 컴파일\n",
    "model.compile(loss='binary_crossentropy',\n",
    "             optimizer='adam',\n",
    "             metrics=['accuracy'])"
   ]
  },
  {
   "cell_type": "code",
   "execution_count": 7,
   "metadata": {
    "scrolled": false
   },
   "outputs": [
    {
     "name": "stdout",
     "output_type": "stream",
     "text": [
      "Epoch 1/50\n",
      "77/77 [==============================] - 0s 2ms/step - loss: 0.5683 - accuracy: 0.7201\n",
      "Epoch 2/50\n",
      "77/77 [==============================] - 0s 2ms/step - loss: 0.5681 - accuracy: 0.7122\n",
      "Epoch 3/50\n",
      "77/77 [==============================] - 0s 2ms/step - loss: 0.5635 - accuracy: 0.7096\n",
      "Epoch 4/50\n",
      "77/77 [==============================] - 0s 2ms/step - loss: 0.5616 - accuracy: 0.7227\n",
      "Epoch 5/50\n",
      "77/77 [==============================] - 0s 2ms/step - loss: 0.5598 - accuracy: 0.7279\n",
      "Epoch 6/50\n",
      "77/77 [==============================] - 0s 2ms/step - loss: 0.5610 - accuracy: 0.7161\n",
      "Epoch 7/50\n",
      "77/77 [==============================] - 0s 2ms/step - loss: 0.5628 - accuracy: 0.7253\n",
      "Epoch 8/50\n",
      "77/77 [==============================] - 0s 2ms/step - loss: 0.5600 - accuracy: 0.7174\n",
      "Epoch 9/50\n",
      "77/77 [==============================] - 0s 2ms/step - loss: 0.5556 - accuracy: 0.7266\n",
      "Epoch 10/50\n",
      "77/77 [==============================] - 0s 2ms/step - loss: 0.5533 - accuracy: 0.7201\n",
      "Epoch 11/50\n",
      "77/77 [==============================] - 0s 2ms/step - loss: 0.5566 - accuracy: 0.7135\n",
      "Epoch 12/50\n",
      "77/77 [==============================] - 0s 2ms/step - loss: 0.5583 - accuracy: 0.7201\n",
      "Epoch 13/50\n",
      "77/77 [==============================] - 0s 2ms/step - loss: 0.5531 - accuracy: 0.7253\n",
      "Epoch 14/50\n",
      "77/77 [==============================] - 0s 2ms/step - loss: 0.5526 - accuracy: 0.7188\n",
      "Epoch 15/50\n",
      "77/77 [==============================] - 0s 2ms/step - loss: 0.5514 - accuracy: 0.7214\n",
      "Epoch 16/50\n",
      "77/77 [==============================] - 0s 2ms/step - loss: 0.5517 - accuracy: 0.7214\n",
      "Epoch 17/50\n",
      "77/77 [==============================] - 0s 2ms/step - loss: 0.5502 - accuracy: 0.7383\n",
      "Epoch 18/50\n",
      "77/77 [==============================] - 0s 2ms/step - loss: 0.5488 - accuracy: 0.7292\n",
      "Epoch 19/50\n",
      "77/77 [==============================] - 0s 2ms/step - loss: 0.5456 - accuracy: 0.7214\n",
      "Epoch 20/50\n",
      "77/77 [==============================] - 0s 2ms/step - loss: 0.5487 - accuracy: 0.7305\n",
      "Epoch 21/50\n",
      "77/77 [==============================] - 0s 2ms/step - loss: 0.5509 - accuracy: 0.7266\n",
      "Epoch 22/50\n",
      "77/77 [==============================] - 0s 2ms/step - loss: 0.5475 - accuracy: 0.7292\n",
      "Epoch 23/50\n",
      "77/77 [==============================] - 0s 2ms/step - loss: 0.5477 - accuracy: 0.7331\n",
      "Epoch 24/50\n",
      "77/77 [==============================] - 0s 2ms/step - loss: 0.5426 - accuracy: 0.7422\n",
      "Epoch 25/50\n",
      "77/77 [==============================] - 0s 2ms/step - loss: 0.5396 - accuracy: 0.7253\n",
      "Epoch 26/50\n",
      "77/77 [==============================] - 0s 2ms/step - loss: 0.5405 - accuracy: 0.7253\n",
      "Epoch 27/50\n",
      "77/77 [==============================] - 0s 2ms/step - loss: 0.5397 - accuracy: 0.7383\n",
      "Epoch 28/50\n",
      "77/77 [==============================] - 0s 2ms/step - loss: 0.5453 - accuracy: 0.7292\n",
      "Epoch 29/50\n",
      "77/77 [==============================] - 0s 2ms/step - loss: 0.5401 - accuracy: 0.7279\n",
      "Epoch 30/50\n",
      "77/77 [==============================] - 0s 2ms/step - loss: 0.5348 - accuracy: 0.7331\n",
      "Epoch 31/50\n",
      "77/77 [==============================] - 0s 2ms/step - loss: 0.5373 - accuracy: 0.7266\n",
      "Epoch 32/50\n",
      "77/77 [==============================] - 0s 2ms/step - loss: 0.5380 - accuracy: 0.7357\n",
      "Epoch 33/50\n",
      "77/77 [==============================] - 0s 2ms/step - loss: 0.5367 - accuracy: 0.7474\n",
      "Epoch 34/50\n",
      "77/77 [==============================] - 0s 2ms/step - loss: 0.5338 - accuracy: 0.7344\n",
      "Epoch 35/50\n",
      "77/77 [==============================] - 0s 2ms/step - loss: 0.5437 - accuracy: 0.7370\n",
      "Epoch 36/50\n",
      "77/77 [==============================] - 0s 2ms/step - loss: 0.5333 - accuracy: 0.7422\n",
      "Epoch 37/50\n",
      "77/77 [==============================] - 0s 2ms/step - loss: 0.5333 - accuracy: 0.7409\n",
      "Epoch 38/50\n",
      "77/77 [==============================] - 0s 2ms/step - loss: 0.5319 - accuracy: 0.7383\n",
      "Epoch 39/50\n",
      "77/77 [==============================] - 0s 2ms/step - loss: 0.5338 - accuracy: 0.7513\n",
      "Epoch 40/50\n",
      "77/77 [==============================] - 0s 2ms/step - loss: 0.5295 - accuracy: 0.7461\n",
      "Epoch 41/50\n",
      "77/77 [==============================] - 0s 2ms/step - loss: 0.5296 - accuracy: 0.7513\n",
      "Epoch 42/50\n",
      "77/77 [==============================] - 0s 2ms/step - loss: 0.5293 - accuracy: 0.7448\n",
      "Epoch 43/50\n",
      "77/77 [==============================] - 0s 2ms/step - loss: 0.5278 - accuracy: 0.7513\n",
      "Epoch 44/50\n",
      "77/77 [==============================] - 0s 2ms/step - loss: 0.5299 - accuracy: 0.7396\n",
      "Epoch 45/50\n",
      "77/77 [==============================] - 0s 2ms/step - loss: 0.5275 - accuracy: 0.7500\n",
      "Epoch 46/50\n",
      "77/77 [==============================] - 0s 2ms/step - loss: 0.5270 - accuracy: 0.7448\n",
      "Epoch 47/50\n",
      "77/77 [==============================] - 0s 2ms/step - loss: 0.5249 - accuracy: 0.7513\n",
      "Epoch 48/50\n",
      "77/77 [==============================] - 0s 2ms/step - loss: 0.5287 - accuracy: 0.7526\n",
      "Epoch 49/50\n",
      "77/77 [==============================] - 0s 2ms/step - loss: 0.5215 - accuracy: 0.7708\n",
      "Epoch 50/50\n",
      "77/77 [==============================] - 0s 2ms/step - loss: 0.5205 - accuracy: 0.7539\n"
     ]
    },
    {
     "data": {
      "text/plain": [
       "<tensorflow.python.keras.callbacks.History at 0x2bb9bb8d7c8>"
      ]
     },
     "execution_count": 7,
     "metadata": {},
     "output_type": "execute_result"
    }
   ],
   "source": [
    "# 모델 실행\n",
    "model.fit(X, Y, epochs=50, batch_size=10)"
   ]
  },
  {
   "cell_type": "code",
   "execution_count": 8,
   "metadata": {},
   "outputs": [
    {
     "name": "stdout",
     "output_type": "stream",
     "text": [
      "24/24 [==============================] - 0s 2ms/step - loss: 0.5185 - accuracy: 0.7552\n",
      "\n",
      " Accuracy: 0.7552\n"
     ]
    }
   ],
   "source": [
    "# 결과 출력\n",
    "print(\"\\n Accuracy: %.4f\" % (model.evaluate(X, Y)[1]))"
   ]
  },
  {
   "cell_type": "code",
   "execution_count": null,
   "metadata": {},
   "outputs": [],
   "source": []
  }
 ],
 "metadata": {
  "kernelspec": {
   "display_name": "Python 3",
   "language": "python",
   "name": "python3"
  },
  "language_info": {
   "codemirror_mode": {
    "name": "ipython",
    "version": 3
   },
   "file_extension": ".py",
   "mimetype": "text/x-python",
   "name": "python",
   "nbconvert_exporter": "python",
   "pygments_lexer": "ipython3",
   "version": "3.7.9"
  }
 },
 "nbformat": 4,
 "nbformat_minor": 4
}
